{
 "cells": [
  {
   "cell_type": "code",
   "execution_count": 1,
   "metadata": {},
   "outputs": [],
   "source": [
    "import pandas as pd\n",
    "import matplotlib.pyplot as plt\n",
    "import seaborn as sns\n",
    "import numpy as np"
   ]
  },
  {
   "cell_type": "code",
   "execution_count": 2,
   "metadata": {},
   "outputs": [
    {
     "name": "stdout",
     "output_type": "stream",
     "text": [
      "Total Rows in cost_Data: 160\n",
      "Total Customers in Profile Data: 30478\n",
      "Total Customers in Transaction Data: 1045540\n",
      "Total Unique Customers in Transactions: 30322\n",
      "Total Unique ZIP Codes in Customer Data: 1801\n",
      "Inactive Customers (no transactions): 156\n",
      "Unmatched ZIP Codes (missing in address mapping): 0\n"
     ]
    }
   ],
   "source": [
    "# Load the datasets\n",
    "customer_data = pd.read_csv('customer_profile.csv')\n",
    "transaction_data = pd.read_csv('transactional_data.csv')\n",
    "address_data = pd.read_csv('customer_address_and_zip_mapping.csv')\n",
    "cost_data = pd.read_csv('delivery_cost_data.csv')\n",
    "# Count unique CUSTOMER_NUMBER in transaction data\n",
    "unique_customers_transaction = transaction_data['CUSTOMER_NUMBER'].nunique()\n",
    "\n",
    "# Count unique ZIP_CODE in customer profile data\n",
    "unique_zip_customer = customer_data['ZIP_CODE'].nunique()\n",
    "\n",
    "# Find customers present in customer_data but not in transaction_data\n",
    "inactive_customers = set(customer_data['CUSTOMER_NUMBER']) - set(transaction_data['CUSTOMER_NUMBER'])\n",
    "# Find ZIP codes present in customer_data but not in address_data\n",
    "unmatched_zips = set(customer_data['ZIP_CODE']) - set(address_data['zip'])\n",
    "\n",
    "print(f\"Total Rows in cost_Data: {len(cost_data)}\")\n",
    "print(f\"Total Customers in Profile Data: {len(customer_data)}\")\n",
    "print(f\"Total Customers in Transaction Data: {len(transaction_data)}\")\n",
    "print(f\"Total Unique Customers in Transactions: {unique_customers_transaction}\")\n",
    "print(f\"Total Unique ZIP Codes in Customer Data: {unique_zip_customer}\")\n",
    "print(f\"Inactive Customers (no transactions): {len(inactive_customers)}\")\n",
    "print(f\"Unmatched ZIP Codes (missing in address mapping): {len(unmatched_zips)}\")"
   ]
  },
  {
   "cell_type": "code",
   "execution_count": 3,
   "metadata": {},
   "outputs": [
    {
     "name": "stdout",
     "output_type": "stream",
     "text": [
      "Customer Profile Data Info:\n",
      "<class 'pandas.core.frame.DataFrame'>\n",
      "RangeIndex: 30478 entries, 0 to 30477\n",
      "Data columns (total 11 columns):\n",
      " #   Column                Non-Null Count  Dtype  \n",
      "---  ------                --------------  -----  \n",
      " 0   CUSTOMER_NUMBER       30478 non-null  int64  \n",
      " 1   PRIMARY_GROUP_NUMBER  12282 non-null  float64\n",
      " 2   FREQUENT_ORDER_TYPE   30478 non-null  object \n",
      " 3   FIRST_DELIVERY_DATE   30478 non-null  object \n",
      " 4   ON_BOARDING_DATE      30478 non-null  object \n",
      " 5   COLD_DRINK_CHANNEL    30478 non-null  object \n",
      " 6   TRADE_CHANNEL         30478 non-null  object \n",
      " 7   SUB_TRADE_CHANNEL     30478 non-null  object \n",
      " 8   LOCAL_MARKET_PARTNER  30478 non-null  bool   \n",
      " 9   CO2_CUSTOMER          30478 non-null  bool   \n",
      " 10  ZIP_CODE              30478 non-null  int64  \n",
      "dtypes: bool(2), float64(1), int64(2), object(6)\n",
      "memory usage: 2.2+ MB\n",
      "None\n",
      "\n",
      "Transactional Data Info:\n",
      "<class 'pandas.core.frame.DataFrame'>\n",
      "RangeIndex: 1045540 entries, 0 to 1045539\n",
      "Data columns (total 11 columns):\n",
      " #   Column             Non-Null Count    Dtype  \n",
      "---  ------             --------------    -----  \n",
      " 0   TRANSACTION_DATE   1045540 non-null  object \n",
      " 1   WEEK               1045540 non-null  int64  \n",
      " 2   YEAR               1045540 non-null  int64  \n",
      " 3   CUSTOMER_NUMBER    1045540 non-null  int64  \n",
      " 4   ORDER_TYPE         1034409 non-null  object \n",
      " 5   ORDERED_CASES      1045540 non-null  float64\n",
      " 6   LOADED_CASES       1045540 non-null  float64\n",
      " 7   DELIVERED_CASES    1045540 non-null  float64\n",
      " 8   ORDERED_GALLONS    1045540 non-null  float64\n",
      " 9   LOADED_GALLONS     1045540 non-null  float64\n",
      " 10  DELIVERED_GALLONS  1045540 non-null  float64\n",
      "dtypes: float64(6), int64(3), object(2)\n",
      "memory usage: 87.7+ MB\n",
      "None\n",
      "\n",
      "Address Mapping Data Info:\n",
      "<class 'pandas.core.frame.DataFrame'>\n",
      "RangeIndex: 1801 entries, 0 to 1800\n",
      "Data columns (total 2 columns):\n",
      " #   Column        Non-Null Count  Dtype \n",
      "---  ------        --------------  ----- \n",
      " 0   zip           1801 non-null   int64 \n",
      " 1   full address  1801 non-null   object\n",
      "dtypes: int64(1), object(1)\n",
      "memory usage: 28.3+ KB\n",
      "None\n",
      "\n",
      "Delivery Cost Data Info:\n",
      "<class 'pandas.core.frame.DataFrame'>\n",
      "RangeIndex: 160 entries, 0 to 159\n",
      "Data columns (total 5 columns):\n",
      " #   Column                Non-Null Count  Dtype \n",
      "---  ------                --------------  ----- \n",
      " 0   Cold Drink Channel    160 non-null    object\n",
      " 1   Vol Range             160 non-null    object\n",
      " 2   Applicable To         160 non-null    object\n",
      " 3   Median Delivery Cost  160 non-null    object\n",
      " 4   Cost Type             160 non-null    object\n",
      "dtypes: object(5)\n",
      "memory usage: 6.4+ KB\n",
      "None\n",
      "Customer Profile Sample:\n",
      "    CUSTOMER_NUMBER  PRIMARY_GROUP_NUMBER FREQUENT_ORDER_TYPE  \\\n",
      "0        501556470                 376.0       MYCOKE LEGACY   \n",
      "1        501363456                   NaN           SALES REP   \n",
      "2        600075150                2158.0           SALES REP   \n",
      "3        500823056                2183.0               OTHER   \n",
      "4        600082383                1892.0           SALES REP   \n",
      "\n",
      "  FIRST_DELIVERY_DATE ON_BOARDING_DATE COLD_DRINK_CHANNEL  \\\n",
      "0            1/2/2024        8/28/2023             DINING   \n",
      "1           4/14/2022        3/22/2022             DINING   \n",
      "2            3/4/2016        3/22/2012             DINING   \n",
      "3            2/6/2019       11/23/2018             DINING   \n",
      "4            3/4/2016        8/31/2010      PUBLIC SECTOR   \n",
      "\n",
      "                  TRADE_CHANNEL    SUB_TRADE_CHANNEL  LOCAL_MARKET_PARTNER  \\\n",
      "0            FAST CASUAL DINING      PIZZA FAST FOOD                  True   \n",
      "1          COMPREHENSIVE DINING           FSR - MISC                  True   \n",
      "2            FAST CASUAL DINING      OTHER FAST FOOD                  True   \n",
      "3            FAST CASUAL DINING      ASIAN FAST FOOD                 False   \n",
      "4  PUBLIC SECTOR (NON-MILITARY)  OTHER PUBLIC SECTOR                  True   \n",
      "\n",
      "   CO2_CUSTOMER  ZIP_CODE  \n",
      "0         False     21664  \n",
      "1          True      1885  \n",
      "2         False     67073  \n",
      "3         False      1885  \n",
      "4         False      1203  \n",
      "Transactional Data Sample:\n",
      "   TRANSACTION_DATE  WEEK  YEAR  CUSTOMER_NUMBER     ORDER_TYPE  ORDERED_CASES  \\\n",
      "0         1/5/2023     1  2023        501202893  MYCOKE LEGACY            1.0   \n",
      "1         1/6/2023     1  2023        500264574  MYCOKE LEGACY           12.5   \n",
      "2         1/9/2023     2  2023        501174701  MYCOKE LEGACY            2.0   \n",
      "3        1/11/2023     2  2023        600586532      SALES REP           18.0   \n",
      "4        1/17/2023     3  2023        501014325      SALES REP           29.0   \n",
      "\n",
      "   LOADED_CASES  DELIVERED_CASES  ORDERED_GALLONS  LOADED_GALLONS  \\\n",
      "0           1.0              1.0             90.0            90.0   \n",
      "1          12.5             12.5              0.0             0.0   \n",
      "2           2.0              2.0              0.0             0.0   \n",
      "3          16.0             16.0              2.5             2.5   \n",
      "4          29.0             29.0              0.0             0.0   \n",
      "\n",
      "   DELIVERED_GALLONS  \n",
      "0               90.0  \n",
      "1                0.0  \n",
      "2                0.0  \n",
      "3                2.5  \n",
      "4                0.0  \n",
      "Address Mapping Sample:\n",
      "      zip                                       full address\n",
      "0  71018  71018,Cotton Valley,Louisiana,LA,Webster,119,3...\n",
      "1  71021  71021,Cullen,Louisiana,LA,Webster,119,32.9721,...\n",
      "2  71023  71023,Doyline,Louisiana,LA,Webster,119,32.49,-...\n",
      "3  71024  71024,Dubberly,Louisiana,LA,Webster,119,32.519...\n",
      "4  71039  71039,Heflin,Louisiana,LA,Webster,119,32.447,-...\n",
      "Customer Profile Data Types:\n",
      " CUSTOMER_NUMBER           int64\n",
      "PRIMARY_GROUP_NUMBER    float64\n",
      "FREQUENT_ORDER_TYPE      object\n",
      "FIRST_DELIVERY_DATE      object\n",
      "ON_BOARDING_DATE         object\n",
      "COLD_DRINK_CHANNEL       object\n",
      "TRADE_CHANNEL            object\n",
      "SUB_TRADE_CHANNEL        object\n",
      "LOCAL_MARKET_PARTNER       bool\n",
      "CO2_CUSTOMER               bool\n",
      "ZIP_CODE                  int64\n",
      "dtype: object\n",
      "Transactional Data Data Types:\n",
      " TRANSACTION_DATE      object\n",
      "WEEK                   int64\n",
      "YEAR                   int64\n",
      "CUSTOMER_NUMBER        int64\n",
      "ORDER_TYPE            object\n",
      "ORDERED_CASES        float64\n",
      "LOADED_CASES         float64\n",
      "DELIVERED_CASES      float64\n",
      "ORDERED_GALLONS      float64\n",
      "LOADED_GALLONS       float64\n",
      "DELIVERED_GALLONS    float64\n",
      "dtype: object\n",
      "Address Mapping Data Types:\n",
      " zip              int64\n",
      "full address    object\n",
      "dtype: object\n"
     ]
    }
   ],
   "source": [
    "# Inspect the structure of each dataset\n",
    "print(\"Customer Profile Data Info:\")\n",
    "print(customer_data.info())\n",
    "print(\"\\nTransactional Data Info:\")\n",
    "print(transaction_data.info())\n",
    "\n",
    "print(\"\\nAddress Mapping Data Info:\")\n",
    "print(address_data.info())\n",
    "print(\"\\nDelivery Cost Data Info:\")\n",
    "print(cost_data.info())\n",
    "# ### Preview first few rows\n",
    "\n",
    "print(\"Customer Profile Sample:\\n\", customer_data.head())\n",
    "print(\"Transactional Data Sample:\\n\", transaction_data.head())\n",
    "print(\"Address Mapping Sample:\\n\", address_data.head())\n",
    "\n",
    "# ### Check data type and consistency \n",
    "print(\"Customer Profile Data Types:\\n\", customer_data.dtypes)\n",
    "print(\"Transactional Data Data Types:\\n\", transaction_data.dtypes)\n",
    "print(\"Address Mapping Data Types:\\n\", address_data.dtypes)"
   ]
  },
  {
   "cell_type": "code",
   "execution_count": 4,
   "metadata": {},
   "outputs": [],
   "source": [
    "## Fix the datatype:\n",
    "## Customer profile data\n",
    "customer_data['CUSTOMER_NUMBER'] = customer_data['CUSTOMER_NUMBER'].astype(str)\n",
    "customer_data['ZIP_CODE'] = customer_data['ZIP_CODE'].astype(str)\n",
    "customer_data['FREQUENT_ORDER_TYPE'] = customer_data['FREQUENT_ORDER_TYPE'].astype('category')\n",
    "customer_data['TRADE_CHANNEL'] = customer_data['TRADE_CHANNEL'].astype('category')\n",
    "customer_data['FIRST_DELIVERY_DATE'] = pd.to_datetime(customer_data['FIRST_DELIVERY_DATE'], errors='coerce')\n",
    "customer_data['ON_BOARDING_DATE'] = pd.to_datetime(customer_data['ON_BOARDING_DATE'], errors='coerce')\n",
    "\n",
    "## Transactional data:\n",
    "transaction_data['TRANSACTION_DATE'] = pd.to_datetime(transaction_data['TRANSACTION_DATE'], errors='coerce')\n",
    "transaction_data['CUSTOMER_NUMBER'] = transaction_data['CUSTOMER_NUMBER'].astype(str)\n",
    "transaction_data['ORDER_TYPE'] = transaction_data['ORDER_TYPE'].astype('category')\n",
    "\n",
    "## Address data:\n",
    "address_data['zip'] = address_data['zip'].astype(str)\n",
    "\n",
    "## Delivery Cost Data:\n",
    "cost_data['Cold Drink Channel'] = cost_data['Cold Drink Channel'].astype('category')\n",
    "cost_data['Vol Range'] = cost_data['Vol Range'].astype('category')\n",
    "cost_data['Applicable To'] = cost_data['Applicable To'].astype('category')\n",
    "cost_data['Cost Type'] = cost_data['Cost Type'].astype('category')\n",
    "\n",
    "# Convert Median Delivery Cost to numeric\n",
    "cost_data['Median Delivery Cost'] = pd.to_numeric(cost_data['Median Delivery Cost'], errors='coerce')\n"
   ]
  },
  {
   "cell_type": "code",
   "execution_count": 5,
   "metadata": {},
   "outputs": [
    {
     "name": "stdout",
     "output_type": "stream",
     "text": [
      "\n",
      "Dataset: Customer_Data\n",
      "Total Rows: 30478\n",
      "Total Duplicate Rows: 0\n",
      "Missing Values Summary:\n",
      "               Variable  Missing Values  Percentage\n",
      "1  PRIMARY_GROUP_NUMBER           18196    59.70208\n"
     ]
    },
    {
     "data": {
      "image/png": "[encoded data removed]",
      "text/plain": [
       "<Figure size 864x432 with 1 Axes>"
      ]
     },
     "metadata": {
      "needs_background": "light"
     },
     "output_type": "display_data"
    },
    {
     "name": "stdout",
     "output_type": "stream",
     "text": [
      "\n",
      "Dataset: Transactional Data\n",
      "Total Rows: 1045540\n",
      "Total Duplicate Rows: 0\n",
      "Missing Values Summary:\n",
      "     Variable  Missing Values  Percentage\n",
      "4  ORDER_TYPE           11131    1.064617\n"
     ]
    },
    {
     "data": {
      "image/png": "[encoded data removed]",
      "text/plain": [
       "<Figure size 864x432 with 1 Axes>"
      ]
     },
     "metadata": {
      "needs_background": "light"
     },
     "output_type": "display_data"
    },
    {
     "name": "stdout",
     "output_type": "stream",
     "text": [
      "\n",
      "Dataset: Address Mapping Data\n",
      "Total Rows: 1801\n",
      "Total Duplicate Rows: 0\n",
      "No missing values found.\n",
      "\n",
      "Dataset: Cost Data\n",
      "Total Rows: 160\n",
      "Total Duplicate Rows: 0\n",
      "No missing values found.\n"
     ]
    },
    {
     "data": {
      "text/plain": [
       "(               Variable  Missing Values  Percentage\n",
       " 1  PRIMARY_GROUP_NUMBER           18196    59.70208,\n",
       " 0,\n",
       "      Variable  Missing Values  Percentage\n",
       " 4  ORDER_TYPE           11131    1.064617,\n",
       " 0,\n",
       " Empty DataFrame\n",
       " Columns: [Variable, Missing Values, Percentage]\n",
       " Index: [],\n",
       " 0,\n",
       " Empty DataFrame\n",
       " Columns: [Variable, Missing Values, Percentage]\n",
       " Index: [],\n",
       " 0)"
      ]
     },
     "execution_count": 5,
     "metadata": {},
     "output_type": "execute_result"
    }
   ],
   "source": [
    "datasets = {\n",
    "    \"customer_data\": pd.read_csv(\"customer_profile.csv\"),\n",
    "    \"transaction_data\": pd.read_csv(\"transactional_data.csv\"),\n",
    "    \"address_data\": pd.read_csv(\"customer_address_and_zip_mapping.csv\"),\n",
    "    \"cost_data\": pd.read_csv(\"delivery_cost_data.csv\")\n",
    "}\n",
    "\n",
    "def analyze_missing_and_duplicates(df, dataset_name):\n",
    "    # Calculate missing values\n",
    "    missing_values = df.isnull().sum()\n",
    "    missing_percentage = (missing_values / len(df)) * 100\n",
    "\n",
    "    # Create a dataframe for missing values\n",
    "    missing_df = pd.DataFrame({\n",
    "        'Variable': df.columns,\n",
    "        'Missing Values': missing_values.values,\n",
    "        'Percentage': missing_percentage.values\n",
    "    })\n",
    "\n",
    "    # Filter only columns with missing values\n",
    "    missing_df = missing_df[missing_df['Missing Values'] > 0].sort_values(by='Percentage', ascending=False)\n",
    "\n",
    "    # Check for duplicate rows\n",
    "    duplicate_rows = df.duplicated().sum()\n",
    "\n",
    "    # Print summary\n",
    "    print(f\"\\nDataset: {dataset_name}\")\n",
    "    print(f\"Total Rows: {len(df)}\")\n",
    "    print(f\"Total Duplicate Rows: {duplicate_rows}\")\n",
    "    \n",
    "    if not missing_df.empty:\n",
    "        print(\"Missing Values Summary:\")\n",
    "        print(missing_df)\n",
    "\n",
    "        # Plot missing values\n",
    "        plt.figure(figsize=(12, 6))\n",
    "        sns.barplot(x='Percentage', y='Variable', data=missing_df, palette='viridis')\n",
    "        plt.title(f'Missing Values Proportion - {dataset_name}')\n",
    "        plt.xlabel('Percentage of Missing Values')\n",
    "        plt.ylabel('Variables')\n",
    "        plt.show()\n",
    "    else:\n",
    "        print(\"No missing values found.\")\n",
    "    \n",
    "    return missing_df, duplicate_rows\n",
    "\n",
    "# Analyze each dataset\n",
    "customer_missing, customer_duplicates = analyze_missing_and_duplicates(datasets['customer_data'], 'Customer_Data')\n",
    "transaction_missing, transaction_duplicates = analyze_missing_and_duplicates(datasets['transaction_data'], 'Transactional Data')\n",
    "address_missing, address_duplicates = analyze_missing_and_duplicates(datasets['address_data'], 'Address Mapping Data')\n",
    "Deivery_cost_missing, cost_duplicates = analyze_missing_and_duplicates(datasets['cost_data'], 'Cost Data')\n",
    "# Return summary results\n",
    "customer_missing, customer_duplicates, transaction_missing, transaction_duplicates, address_missing, address_duplicates,Deivery_cost_missing, cost_duplicates"
   ]
  },
  {
   "cell_type": "markdown",
   "metadata": {},
   "source": [
    "> The column PRIMARY_GROUP_NUMBER has 18,196 missing values, which accounts for 59.70% of the total data.\n",
    "There are 11,131 missing values in transactional data, which accounts for 1.06% of the total data,  the impact on analysis and modeling may be minimal.\n"
   ]
  },
  {
   "cell_type": "markdown",
   "metadata": {},
   "source": [
    "#### Handling Missing Values:"
   ]
  },
  {
   "cell_type": "code",
   "execution_count": 6,
   "metadata": {},
   "outputs": [],
   "source": [
    "# Convert to categorical if not already\n",
    "datasets['transaction_data']['ORDER_TYPE'] = datasets['transaction_data']['ORDER_TYPE'].astype('category')\n",
    "\n",
    "# Add 'Unknown' as a category and fill missing values\n",
    "datasets['transaction_data']['ORDER_TYPE'] = datasets['transaction_data']['ORDER_TYPE'].cat.add_categories('Unknown')\n",
    "datasets['transaction_data']['ORDER_TYPE'].fillna('Unknown', inplace=True)\n"
   ]
  },
  {
   "cell_type": "code",
   "execution_count": 7,
   "metadata": {},
   "outputs": [
    {
     "name": "stdout",
     "output_type": "stream",
     "text": [
      "0        False\n",
      "1         True\n",
      "2        False\n",
      "3        False\n",
      "4        False\n",
      "         ...  \n",
      "30473     True\n",
      "30474     True\n",
      "30475     True\n",
      "30476     True\n",
      "30477    False\n",
      "Name: PRIMARY_GROUP_NUMBER, Length: 30478, dtype: bool\n",
      "Number of customers with missing PRIMARY_GROUP_NUMBER: 18196\n"
     ]
    }
   ],
   "source": [
    "# Customers with Missing PRIMARY_GROUP_NUMBER\n",
    "missing_primary_group_customers = datasets['customer_data'][\"PRIMARY_GROUP_NUMBER\"].isnull()\n",
    "print(missing_primary_group_customers)\n",
    "num_missing = datasets['customer_data'][\"PRIMARY_GROUP_NUMBER\"].isnull().sum()\n",
    "print(f\"Number of customers with missing PRIMARY_GROUP_NUMBER: {num_missing}\")\n",
    "datasets['customer_data'][\"PRIMARY_GROUP_NUMBER\"].fillna(\"Unknown\", inplace=True)\n"
   ]
  },
  {
   "cell_type": "markdown",
   "metadata": {},
   "source": [
    "### Verify changes:"
   ]
  },
  {
   "cell_type": "code",
   "execution_count": 8,
   "metadata": {},
   "outputs": [
    {
     "name": "stdout",
     "output_type": "stream",
     "text": [
      "Missing values in ORDER_TYPE after imputation: 0\n",
      "Missing values in PRIMARY_GROUP_NUMBER after imputation: 0\n"
     ]
    }
   ],
   "source": [
    "print(\"Missing values in ORDER_TYPE after imputation:\", datasets['transaction_data']['ORDER_TYPE'].isnull().sum())\n",
    "print(\"Missing values in PRIMARY_GROUP_NUMBER after imputation:\", datasets['customer_data']['PRIMARY_GROUP_NUMBER'].isnull().sum())\n"
   ]
  },
  {
   "cell_type": "code",
   "execution_count": 9,
   "metadata": {},
   "outputs": [
    {
     "name": "stdout",
     "output_type": "stream",
     "text": [
      "0\n"
     ]
    }
   ],
   "source": [
    "transaction_data = datasets['transaction_data']\n",
    "customer_data = datasets['customer_data']\n",
    "cost_data = datasets['cost_data']\n",
    "address_data = datasets['address_data']\n",
    "print(transaction_data['ORDER_TYPE'].isnull().sum())"
   ]
  },
  {
   "cell_type": "markdown",
   "metadata": {},
   "source": [
    "### Sales and volume trend analysis:"
   ]
  },
  {
   "cell_type": "markdown",
   "metadata": {},
   "source": [
    "## Daily, Monthly, and Yearly Trends"
   ]
  },
  {
   "cell_type": "code",
   "execution_count": 10,
   "metadata": {},
   "outputs": [
    {
     "data": {
      "image/png": "[encoded data removed]",
      "text/plain": [
       "<Figure size 864x720 with 2 Axes>"
      ]
     },
     "metadata": {
      "needs_background": "light"
     },
     "output_type": "display_data"
    }
   ],
   "source": [
    "#Monthly Trends (Cases & Gallons)\n",
    "#Monthly Trends (Cases & Gallons)\n",
    "transaction_data['TRANSACTION_DATE'] = pd.to_datetime(transaction_data['TRANSACTION_DATE'], errors='coerce')\n",
    "# Extract month-year for monthly analysis\n",
    "transaction_data['MONTH'] = transaction_data['TRANSACTION_DATE'].dt.to_period('M').astype(str)\n",
    "\n",
    "# Aggregate by month\n",
    "monthly_trends = transaction_data.groupby('MONTH')[\n",
    "    ['ORDERED_CASES', 'LOADED_CASES', 'DELIVERED_CASES', 'ORDERED_GALLONS', 'LOADED_GALLONS', 'DELIVERED_GALLONS']\n",
    "].sum()\n",
    "\n",
    "# Convert period index to string for plotting\n",
    "monthly_trends.index = monthly_trends.index.astype(str)\n",
    "\n",
    "# Create figure with two subplots\n",
    "fig, axes = plt.subplots(nrows=2, ncols=1, figsize=(12, 10), sharex=True)\n",
    "\n",
    "# Plot cases trend\n",
    "axes[0].plot(monthly_trends.index, monthly_trends['ORDERED_CASES'], marker='o', linestyle='-', label='Ordered Cases', alpha=0.7)\n",
    "axes[0].plot(monthly_trends.index, monthly_trends['LOADED_CASES'], marker='s', linestyle='--', label='Loaded Cases', alpha=0.7)\n",
    "axes[0].plot(monthly_trends.index, monthly_trends['DELIVERED_CASES'], marker='^', linestyle='-', label='Delivered Cases', alpha=0.7)\n",
    "axes[0].set_ylabel('Total Cases')\n",
    "axes[0].set_title('Monthly Order, Load, and Delivery Trends (Cases)')\n",
    "axes[0].legend()\n",
    "axes[0].grid(True)\n",
    "\n",
    "# Plot gallons trend\n",
    "axes[1].plot(monthly_trends.index, monthly_trends['ORDERED_GALLONS'], marker='o', linestyle='-', label='Ordered Gallons', alpha=0.7)\n",
    "axes[1].plot(monthly_trends.index, monthly_trends['LOADED_GALLONS'], marker='s', linestyle='--', label='Loaded Gallons', alpha=0.7)\n",
    "axes[1].plot(monthly_trends.index, monthly_trends['DELIVERED_GALLONS'], marker='^', linestyle='-', label='Delivered Gallons', alpha=0.7)\n",
    "axes[1].set_ylabel('Total Gallons')\n",
    "axes[1].set_title('Monthly Order, Load, and Delivery Trends (Gallons)')\n",
    "axes[1].legend()\n",
    "axes[1].grid(True)\n",
    "\n",
    "plt.xlabel('Month')\n",
    "plt.xticks(rotation=45)\n",
    "plt.show()\n",
    "\n"
   ]
  },
  {
   "cell_type": "markdown",
   "metadata": {},
   "source": [
    "> Delivered cases are consistently lower than ordered cases.\n"
   ]
  },
  {
   "cell_type": "code",
   "execution_count": 12,
   "metadata": {},
   "outputs": [
    {
     "data": {
      "image/png": "[encoded data removed]",
      "text/plain": [
       "<Figure size 720x720 with 2 Axes>"
      ]
     },
     "metadata": {
      "needs_background": "light"
     },
     "output_type": "display_data"
    }
   ],
   "source": [
    "# Yearly Trends (Cases & Gallons)\n",
    "# Aggregate by year\n",
    "yearly_trends = transaction_data.groupby('YEAR')[\n",
    "    ['ORDERED_CASES', 'LOADED_CASES', 'DELIVERED_CASES', 'ORDERED_GALLONS', 'LOADED_GALLONS', 'DELIVERED_GALLONS']\n",
    "].sum()\n",
    "\n",
    "# Create figure with two subplots\n",
    "fig, axes = plt.subplots(nrows=2, ncols=1, figsize=(10, 10), sharex=True)\n",
    "\n",
    "# Plot cases trend (using Matplotlib instead of pandas' built-in plotting)\n",
    "axes[0].bar(yearly_trends.index, yearly_trends['ORDERED_CASES'], label='Ordered Cases', alpha=0.7)\n",
    "axes[0].bar(yearly_trends.index, yearly_trends['LOADED_CASES'], label='Loaded Cases', alpha=0.7)\n",
    "axes[0].bar(yearly_trends.index, yearly_trends['DELIVERED_CASES'], label='Delivered Cases', alpha=0.7)\n",
    "axes[0].set_ylabel('Total Cases')\n",
    "axes[0].set_title('Yearly Order, Load, and Delivery Trends (Cases)')\n",
    "axes[0].legend()\n",
    "axes[0].grid(axis='y')\n",
    "\n",
    "# Plot gallons trend\n",
    "axes[1].bar(yearly_trends.index, yearly_trends['ORDERED_GALLONS'], label='Ordered Gallons', alpha=0.7)\n",
    "axes[1].bar(yearly_trends.index, yearly_trends['LOADED_GALLONS'], label='Loaded Gallons', alpha=0.7)\n",
    "axes[1].bar(yearly_trends.index, yearly_trends['DELIVERED_GALLONS'], label='Delivered Gallons', alpha=0.7)\n",
    "axes[1].set_ylabel('Total Gallons')\n",
    "axes[1].set_title('Yearly Order, Load, and Delivery Trends (Gallons)')\n",
    "axes[1].legend()\n",
    "axes[1].grid(axis='y')\n",
    "\n",
    "plt.xlabel('Year')\n",
    "plt.xticks(rotation=45)\n",
    "plt.show()"
   ]
  },
  {
   "cell_type": "markdown",
   "metadata": {},
   "source": [
    ">  The delivered amounts (green) closely match the ordered and loaded amounts, indicating a high fulfillment rate."
   ]
  },
  {
   "cell_type": "code",
   "execution_count": 13,
   "metadata": {},
   "outputs": [
    {
     "name": "stdout",
     "output_type": "stream",
     "text": [
      "                  ORDERED_CASES  DELIVERED_CASES  ORDERED_GALLONS  \\\n",
      "TRANSACTION_DATE                                                    \n",
      "2023-01-01          2040.000000      2040.000000         0.000000   \n",
      "2023-01-02            18.750000        13.750000        15.000000   \n",
      "2023-01-03         32914.638124     30334.722624     12803.255981   \n",
      "2023-01-04         48788.976558     43548.784748     17656.913747   \n",
      "2023-01-05         47334.356213     43585.074527     19964.134469   \n",
      "...                         ...              ...              ...   \n",
      "2024-12-27         40893.250000     38694.130000     17466.882472   \n",
      "2024-12-28          6105.250000      5902.750000       742.500000   \n",
      "2024-12-29            28.000000        28.000000        25.000000   \n",
      "2024-12-30         51619.750000     47072.500000     13059.661150   \n",
      "2024-12-31         35299.803000     32643.553000     16120.170643   \n",
      "\n",
      "                  DELIVERED_GALLONS  FULFILLMENT_RATE_CASES  \\\n",
      "TRANSACTION_DATE                                              \n",
      "2023-01-01                 0.000000                1.000000   \n",
      "2023-01-02                 0.000000                0.733333   \n",
      "2023-01-03             11744.677907                0.921618   \n",
      "2023-01-04             16016.138972                0.892595   \n",
      "2023-01-05             17759.416291                0.920792   \n",
      "...                             ...                     ...   \n",
      "2024-12-27             16338.940618                0.946223   \n",
      "2024-12-28               705.000000                0.966832   \n",
      "2024-12-29                17.500000                1.000000   \n",
      "2024-12-30             12352.651907                0.911909   \n",
      "2024-12-31             15267.518822                0.924752   \n",
      "\n",
      "                  FULFILLMENT_RATE_GALLONS  \n",
      "TRANSACTION_DATE                            \n",
      "2023-01-01                             NaN  \n",
      "2023-01-02                        0.000000  \n",
      "2023-01-03                        0.917320  \n",
      "2023-01-04                        0.907075  \n",
      "2023-01-05                        0.889566  \n",
      "...                                    ...  \n",
      "2024-12-27                        0.935424  \n",
      "2024-12-28                        0.949495  \n",
      "2024-12-29                        0.700000  \n",
      "2024-12-30                        0.945863  \n",
      "2024-12-31                        0.947107  \n",
      "\n",
      "[723 rows x 6 columns]\n"
     ]
    }
   ],
   "source": [
    "# Group by Transaction Date and Aggregate Ordered & Delivered Cases & Gallons\n",
    "daily_fulfillment = transaction_data.groupby('TRANSACTION_DATE')[\n",
    "    ['ORDERED_CASES', 'DELIVERED_CASES', 'ORDERED_GALLONS', 'DELIVERED_GALLONS']\n",
    "].sum()\n",
    "\n",
    "# Avoid division by zero: Set FULFILLMENT_RATE to NaN if ORDERED_CASES == 0\n",
    "daily_fulfillment['FULFILLMENT_RATE_CASES'] = daily_fulfillment['DELIVERED_CASES'] / daily_fulfillment['ORDERED_CASES']\n",
    "daily_fulfillment['FULFILLMENT_RATE_GALLONS'] = daily_fulfillment['DELIVERED_GALLONS'] / daily_fulfillment['ORDERED_GALLONS']\n",
    "\n",
    "# Handle division by zero\n",
    "daily_fulfillment.loc[daily_fulfillment['ORDERED_CASES'] == 0, 'FULFILLMENT_RATE_CASES'] = np.nan\n",
    "daily_fulfillment.loc[daily_fulfillment['ORDERED_GALLONS'] == 0, 'FULFILLMENT_RATE_GALLONS'] = np.nan\n",
    "\n",
    "# Replace Infinite Values (caused by division by zero) with NaN\n",
    "daily_fulfillment.replace([np.inf, -np.inf], np.nan, inplace=True)\n",
    "\n",
    "# Drop rows where both fulfillment rates are NaN (optional)\n",
    "daily_fulfillment.dropna(subset=['FULFILLMENT_RATE_CASES', 'FULFILLMENT_RATE_GALLONS'], how='all', inplace=True)\n",
    "\n",
    "# Sort by date\n",
    "daily_fulfillment = daily_fulfillment.sort_index()\n",
    "\n",
    "print(daily_fulfillment)\n"
   ]
  },
  {
   "cell_type": "markdown",
   "metadata": {},
   "source": [
    "# Customer Profilling \n",
    "## Filter Out Customers Who Ordered Neither Cases Nor Gallons"
   ]
  },
  {
   "cell_type": "code",
   "execution_count": 14,
   "metadata": {},
   "outputs": [
    {
     "data": {
      "text/plain": [
       "'inctive Customers'"
      ]
     },
     "metadata": {},
     "output_type": "display_data"
    },
    {
     "data": {
      "text/html": [
       "<div>\n",
       "<style scoped>\n",
       "    .dataframe tbody tr th:only-of-type {\n",
       "        vertical-align: middle;\n",
       "    }\n",
       "\n",
       "    .dataframe tbody tr th {\n",
       "        vertical-align: top;\n",
       "    }\n",
       "\n",
       "    .dataframe thead th {\n",
       "        text-align: right;\n",
       "    }\n",
       "</style>\n",
       "<table border=\"1\" class=\"dataframe\">\n",
       "  <thead>\n",
       "    <tr style=\"text-align: right;\">\n",
       "      <th></th>\n",
       "      <th>ORDERED_CASES</th>\n",
       "      <th>ORDERED_GALLONS</th>\n",
       "    </tr>\n",
       "    <tr>\n",
       "      <th>CUSTOMER_NUMBER</th>\n",
       "      <th></th>\n",
       "      <th></th>\n",
       "    </tr>\n",
       "  </thead>\n",
       "  <tbody>\n",
       "    <tr>\n",
       "      <th>500437401</th>\n",
       "      <td>0.0</td>\n",
       "      <td>0.0</td>\n",
       "    </tr>\n",
       "    <tr>\n",
       "      <th>500438917</th>\n",
       "      <td>0.0</td>\n",
       "      <td>0.0</td>\n",
       "    </tr>\n",
       "    <tr>\n",
       "      <th>500439123</th>\n",
       "      <td>0.0</td>\n",
       "      <td>0.0</td>\n",
       "    </tr>\n",
       "    <tr>\n",
       "      <th>500439124</th>\n",
       "      <td>0.0</td>\n",
       "      <td>0.0</td>\n",
       "    </tr>\n",
       "    <tr>\n",
       "      <th>500440086</th>\n",
       "      <td>0.0</td>\n",
       "      <td>0.0</td>\n",
       "    </tr>\n",
       "    <tr>\n",
       "      <th>...</th>\n",
       "      <td>...</td>\n",
       "      <td>...</td>\n",
       "    </tr>\n",
       "    <tr>\n",
       "      <th>600253524</th>\n",
       "      <td>0.0</td>\n",
       "      <td>0.0</td>\n",
       "    </tr>\n",
       "    <tr>\n",
       "      <th>600254962</th>\n",
       "      <td>0.0</td>\n",
       "      <td>0.0</td>\n",
       "    </tr>\n",
       "    <tr>\n",
       "      <th>600256111</th>\n",
       "      <td>0.0</td>\n",
       "      <td>0.0</td>\n",
       "    </tr>\n",
       "    <tr>\n",
       "      <th>600258922</th>\n",
       "      <td>0.0</td>\n",
       "      <td>0.0</td>\n",
       "    </tr>\n",
       "    <tr>\n",
       "      <th>600261074</th>\n",
       "      <td>0.0</td>\n",
       "      <td>0.0</td>\n",
       "    </tr>\n",
       "  </tbody>\n",
       "</table>\n",
       "<p>137 rows × 2 columns</p>\n",
       "</div>"
      ],
      "text/plain": [
       "                 ORDERED_CASES  ORDERED_GALLONS\n",
       "CUSTOMER_NUMBER                                \n",
       "500437401                  0.0              0.0\n",
       "500438917                  0.0              0.0\n",
       "500439123                  0.0              0.0\n",
       "500439124                  0.0              0.0\n",
       "500440086                  0.0              0.0\n",
       "...                        ...              ...\n",
       "600253524                  0.0              0.0\n",
       "600254962                  0.0              0.0\n",
       "600256111                  0.0              0.0\n",
       "600258922                  0.0              0.0\n",
       "600261074                  0.0              0.0\n",
       "\n",
       "[137 rows x 2 columns]"
      ]
     },
     "metadata": {},
     "output_type": "display_data"
    }
   ],
   "source": [
    "from IPython.display import display\n",
    "# Group by Customer and Transaction Date, then sum ordered cases & gallons\n",
    "customer_order_summary = transaction_data.groupby(['CUSTOMER_NUMBER', 'TRANSACTION_DATE'])[\n",
    "    ['ORDERED_CASES', 'ORDERED_GALLONS']\n",
    "].sum().reset_index()\n",
    "\n",
    "# Fill NaN values with 0 to prevent misclassification\n",
    "customer_order_summary[['ORDERED_CASES', 'ORDERED_GALLONS']] = customer_order_summary[['ORDERED_CASES', 'ORDERED_GALLONS']].fillna(0)\n",
    "\n",
    "# Identify inactive customers (who never ordered anything)\n",
    "inactive_customers = customer_order_summary.groupby('CUSTOMER_NUMBER').sum()\n",
    "inactive_customers = inactive_customers[\n",
    "    (inactive_customers['ORDERED_CASES'] == 0) & (inactive_customers['ORDERED_GALLONS'] == 0)\n",
    "]\n",
    "\n",
    "# Identify active customers (who ordered at least once)\n",
    "active_customers = customer_order_summary.groupby('CUSTOMER_NUMBER').sum()\n",
    "active_customers = active_customers[\n",
    "    (active_customers['ORDERED_CASES'] > 0) | (active_customers['ORDERED_GALLONS'] > 0)\n",
    "]\n",
    "display(\"inctive Customers\", inactive_customers)\n",
    "\n",
    "\n"
   ]
  },
  {
   "cell_type": "code",
   "execution_count": 17,
   "metadata": {},
   "outputs": [
    {
     "name": "stdout",
     "output_type": "stream",
     "text": [
      "Number of inactive customers: 137\n"
     ]
    }
   ],
   "source": [
    "num_inactive_customers = inactive_customers.index.nunique()\n",
    "print(f\"Number of inactive customers: {num_inactive_customers}\")\n"
   ]
  },
  {
   "cell_type": "markdown",
   "metadata": {},
   "source": [
    "> Understanding inactive customers is crucial in Exploratory Data Analysis (EDA) because it helps identify patterns, risks, and potential business opportunities"
   ]
  },
  {
   "cell_type": "markdown",
   "metadata": {},
   "source": [
    "## Define Threshold for High-Potential Customers"
   ]
  },
  {
   "cell_type": "code",
   "execution_count": 19,
   "metadata": {},
   "outputs": [
    {
     "data": {
      "text/plain": [
       "'Customer Categorization'"
      ]
     },
     "metadata": {},
     "output_type": "display_data"
    },
    {
     "data": {
      "text/html": [
       "<div>\n",
       "<style scoped>\n",
       "    .dataframe tbody tr th:only-of-type {\n",
       "        vertical-align: middle;\n",
       "    }\n",
       "\n",
       "    .dataframe tbody tr th {\n",
       "        vertical-align: top;\n",
       "    }\n",
       "\n",
       "    .dataframe thead th {\n",
       "        text-align: right;\n",
       "    }\n",
       "</style>\n",
       "<table border=\"1\" class=\"dataframe\">\n",
       "  <thead>\n",
       "    <tr style=\"text-align: right;\">\n",
       "      <th></th>\n",
       "      <th>CUSTOMER_NUMBER</th>\n",
       "      <th>TOTAL_ORDERED_VOLUME</th>\n",
       "      <th>Customer_Category</th>\n",
       "    </tr>\n",
       "  </thead>\n",
       "  <tbody>\n",
       "    <tr>\n",
       "      <th>0</th>\n",
       "      <td>500245678</td>\n",
       "      <td>753.50</td>\n",
       "      <td>High-Potential</td>\n",
       "    </tr>\n",
       "    <tr>\n",
       "      <th>1</th>\n",
       "      <td>500245685</td>\n",
       "      <td>1083.50</td>\n",
       "      <td>High-Potential</td>\n",
       "    </tr>\n",
       "    <tr>\n",
       "      <th>2</th>\n",
       "      <td>500245686</td>\n",
       "      <td>36.00</td>\n",
       "      <td>Low-Potential</td>\n",
       "    </tr>\n",
       "    <tr>\n",
       "      <th>3</th>\n",
       "      <td>500245687</td>\n",
       "      <td>272.50</td>\n",
       "      <td>Low-Potential</td>\n",
       "    </tr>\n",
       "    <tr>\n",
       "      <th>4</th>\n",
       "      <td>500245689</td>\n",
       "      <td>1167.50</td>\n",
       "      <td>High-Potential</td>\n",
       "    </tr>\n",
       "    <tr>\n",
       "      <th>...</th>\n",
       "      <td>...</td>\n",
       "      <td>...</td>\n",
       "      <td>...</td>\n",
       "    </tr>\n",
       "    <tr>\n",
       "      <th>30317</th>\n",
       "      <td>600975319</td>\n",
       "      <td>196.25</td>\n",
       "      <td>Low-Potential</td>\n",
       "    </tr>\n",
       "    <tr>\n",
       "      <th>30318</th>\n",
       "      <td>600975334</td>\n",
       "      <td>1030.00</td>\n",
       "      <td>High-Potential</td>\n",
       "    </tr>\n",
       "    <tr>\n",
       "      <th>30319</th>\n",
       "      <td>600975377</td>\n",
       "      <td>319.50</td>\n",
       "      <td>Low-Potential</td>\n",
       "    </tr>\n",
       "    <tr>\n",
       "      <th>30320</th>\n",
       "      <td>600975383</td>\n",
       "      <td>115.00</td>\n",
       "      <td>Low-Potential</td>\n",
       "    </tr>\n",
       "    <tr>\n",
       "      <th>30321</th>\n",
       "      <td>600975408</td>\n",
       "      <td>165.00</td>\n",
       "      <td>Low-Potential</td>\n",
       "    </tr>\n",
       "  </tbody>\n",
       "</table>\n",
       "<p>30322 rows × 3 columns</p>\n",
       "</div>"
      ],
      "text/plain": [
       "       CUSTOMER_NUMBER  TOTAL_ORDERED_VOLUME Customer_Category\n",
       "0            500245678                753.50    High-Potential\n",
       "1            500245685               1083.50    High-Potential\n",
       "2            500245686                 36.00     Low-Potential\n",
       "3            500245687                272.50     Low-Potential\n",
       "4            500245689               1167.50    High-Potential\n",
       "...                ...                   ...               ...\n",
       "30317        600975319                196.25     Low-Potential\n",
       "30318        600975334               1030.00    High-Potential\n",
       "30319        600975377                319.50     Low-Potential\n",
       "30320        600975383                115.00     Low-Potential\n",
       "30321        600975408                165.00     Low-Potential\n",
       "\n",
       "[30322 rows x 3 columns]"
      ]
     },
     "metadata": {},
     "output_type": "display_data"
    },
    {
     "name": "stdout",
     "output_type": "stream",
     "text": [
      "Customer_Category\n",
      "High-Potential    2786.761859\n",
      "Low-Potential      155.347127\n",
      "Name: TOTAL_ORDERED_VOLUME, dtype: float64\n"
     ]
    }
   ],
   "source": [
    "# Convert cases to gallons by summing ORDERED_CASES and ORDERED_GALLONS\n",
    "transaction_data['TOTAL_ORDERED_VOLUME'] = transaction_data['ORDERED_CASES'] + transaction_data['ORDERED_GALLONS']\n",
    "\n",
    "# Aggregate total ordered volume per customer\n",
    "customer_volume = transaction_data.groupby('CUSTOMER_NUMBER')['TOTAL_ORDERED_VOLUME'].sum().reset_index()\n",
    "\n",
    "# Define threshold (400 gallons)\n",
    "threshold = 400\n",
    "\n",
    "# Classify customers based on the threshold\n",
    "customer_volume['Customer_Category'] = customer_volume['TOTAL_ORDERED_VOLUME'].apply(\n",
    "    lambda x: 'High-Potential' if x >= threshold else 'Low-Potential'\n",
    ")\n",
    "\n",
    "# Display results\n",
    "display(\"Customer Categorization\", customer_volume)\n",
    "avg_volume_by_category = customer_volume.groupby('Customer_Category')['TOTAL_ORDERED_VOLUME'].mean()\n",
    "print(avg_volume_by_category)\n"
   ]
  },
  {
   "cell_type": "markdown",
   "metadata": {},
   "source": [
    "> High-Potential Customers: 12,802 customers, averaging 2,786.76 gallons annually, with a median of 985.5 gallons.\n",
    "Low-Potential Customers: 17,520 customers, averaging 155.35 gallons annually, with a median of 135.5 gallons."
   ]
  },
  {
   "cell_type": "code",
   "execution_count": null,
   "metadata": {},
   "outputs": [],
   "source": [
    "### need to run\n",
    "\n",
    "\n",
    "\n",
    "\n",
    "\n",
    "#Step 1: Merge Customer Type with Transaction Data\n",
    "transaction_data = transaction_data.merge(\n",
    "    customer_volume[['CUSTOMER_NUMBER', 'CUSTOMER_TYPE']],\n",
    "    on=\"CUSTOMER_NUMBER\",\n",
    "    how=\"left\"\n",
    ")\n",
    "\n",
    "# Step 2: Extract Month-Year for Monthly Aggregation\n",
    "transaction_data['MONTH'] = transaction_data['TRANSACTION_DATE'].dt.to_period('M')\n",
    "\n",
    "# Step 3: Aggregate Monthly Orders for High and Low-Potential Customers\n",
    "monthly_orders = transaction_data.groupby(['MONTH', 'CUSTOMER_TYPE'])[['ORDERED_CASES', 'ORDERED_GALLONS']].sum().reset_index()\n",
    "\n",
    "# Split Data into High and Low-Potential Customers\n",
    "high_potential_orders = monthly_orders[monthly_orders['CUSTOMER_TYPE'] == 'High-Potential'].copy()\n",
    "low_potential_orders = monthly_orders[monthly_orders['CUSTOMER_TYPE'] == 'Low-Potential'].copy()\n",
    "\n",
    "# Step 5: Convert Period to String for Plotting\n",
    "high_potential_orders['MONTH'] = high_potential_orders['MONTH'].astype(str)\n",
    "low_potential_orders['MONTH'] = low_potential_orders['MONTH'].astype(str)\n",
    "\n",
    "# Step 6: Plot the Trends\n",
    "fig, axes = plt.subplots(nrows=2, ncols=1, figsize=(12, 10), sharex=True)\n",
    "\n",
    "# High-Potential Customers Order Trends\n",
    "axes[0].plot(high_potential_orders['MONTH'], high_potential_orders['ORDERED_CASES'], marker='o', linestyle='-', label='Ordered Cases', alpha=0.7)\n",
    "axes[0].plot(high_potential_orders['MONTH'], high_potential_orders['ORDERED_GALLONS'], marker='s', linestyle='--', label='Ordered Gallons', alpha=0.7)\n",
    "axes[0].set_ylabel('Total Orders')\n",
    "axes[0].set_title('Monthly Order Trends (High-Potential Customers)')\n",
    "axes[0].legend()\n",
    "axes[0].grid(True)\n",
    "\n",
    "# Low-Potential Customers Order Trends\n",
    "axes[1].plot(low_potential_orders['MONTH'], low_potential_orders['ORDERED_CASES'], marker='o', linestyle='-', label='Ordered Cases', alpha=0.7)\n",
    "axes[1].plot(low_potential_orders['MONTH'], low_potential_orders['ORDERED_GALLONS'], marker='s', linestyle='--', label='Ordered Gallons', alpha=0.7)\n",
    "axes[1].set_ylabel('Total Orders')\n",
    "axes[1].set_title('Monthly Order Trends (Low-Potential Customers)')\n",
    "axes[1].legend()\n",
    "axes[1].grid(True)\n",
    "\n",
    "plt.xlabel('Month')\n",
    "plt.xticks(rotation=45)\n",
    "plt.show()\n"
   ]
  },
  {
   "cell_type": "markdown",
   "metadata": {},
   "source": [
    "> This visualization compares monthly order trends between high-potential and low-potential customers\n",
    ">> High-potential customers generally maintain steady order patterns with strong peaks, which may indicate seasonal demand.\n",
    "Low-potential customers exhibit less stable ordering behavior, possibly due to sporadic business needs."
   ]
  },
  {
   "cell_type": "markdown",
   "metadata": {},
   "source": [
    "## Identify Low-Potential Customers Near the Threshold"
   ]
  },
  {
   "cell_type": "code",
   "execution_count": 20,
   "metadata": {},
   "outputs": [
    {
     "data": {
      "text/html": [
       "<div>\n",
       "<style scoped>\n",
       "    .dataframe tbody tr th:only-of-type {\n",
       "        vertical-align: middle;\n",
       "    }\n",
       "\n",
       "    .dataframe tbody tr th {\n",
       "        vertical-align: top;\n",
       "    }\n",
       "\n",
       "    .dataframe thead th {\n",
       "        text-align: right;\n",
       "    }\n",
       "</style>\n",
       "<table border=\"1\" class=\"dataframe\">\n",
       "  <thead>\n",
       "    <tr style=\"text-align: right;\">\n",
       "      <th></th>\n",
       "      <th>CUSTOMER_NUMBER</th>\n",
       "      <th>TOTAL_ORDERED_VOLUME</th>\n",
       "      <th>Customer_Category</th>\n",
       "    </tr>\n",
       "  </thead>\n",
       "  <tbody>\n",
       "    <tr>\n",
       "      <th>20</th>\n",
       "      <td>500245769</td>\n",
       "      <td>372.0</td>\n",
       "      <td>Low-Potential</td>\n",
       "    </tr>\n",
       "    <tr>\n",
       "      <th>28</th>\n",
       "      <td>500245798</td>\n",
       "      <td>385.0</td>\n",
       "      <td>Low-Potential</td>\n",
       "    </tr>\n",
       "    <tr>\n",
       "      <th>33</th>\n",
       "      <td>500245831</td>\n",
       "      <td>392.0</td>\n",
       "      <td>Low-Potential</td>\n",
       "    </tr>\n",
       "    <tr>\n",
       "      <th>105</th>\n",
       "      <td>500247159</td>\n",
       "      <td>396.5</td>\n",
       "      <td>Low-Potential</td>\n",
       "    </tr>\n",
       "    <tr>\n",
       "      <th>140</th>\n",
       "      <td>500264229</td>\n",
       "      <td>385.0</td>\n",
       "      <td>Low-Potential</td>\n",
       "    </tr>\n",
       "    <tr>\n",
       "      <th>...</th>\n",
       "      <td>...</td>\n",
       "      <td>...</td>\n",
       "      <td>...</td>\n",
       "    </tr>\n",
       "    <tr>\n",
       "      <th>30161</th>\n",
       "      <td>600685957</td>\n",
       "      <td>380.0</td>\n",
       "      <td>Low-Potential</td>\n",
       "    </tr>\n",
       "    <tr>\n",
       "      <th>30208</th>\n",
       "      <td>600686423</td>\n",
       "      <td>375.5</td>\n",
       "      <td>Low-Potential</td>\n",
       "    </tr>\n",
       "    <tr>\n",
       "      <th>30277</th>\n",
       "      <td>600974865</td>\n",
       "      <td>350.5</td>\n",
       "      <td>Low-Potential</td>\n",
       "    </tr>\n",
       "    <tr>\n",
       "      <th>30293</th>\n",
       "      <td>600975074</td>\n",
       "      <td>374.5</td>\n",
       "      <td>Low-Potential</td>\n",
       "    </tr>\n",
       "    <tr>\n",
       "      <th>30298</th>\n",
       "      <td>600975136</td>\n",
       "      <td>378.5</td>\n",
       "      <td>Low-Potential</td>\n",
       "    </tr>\n",
       "  </tbody>\n",
       "</table>\n",
       "<p>1118 rows × 3 columns</p>\n",
       "</div>"
      ],
      "text/plain": [
       "       CUSTOMER_NUMBER  TOTAL_ORDERED_VOLUME Customer_Category\n",
       "20           500245769                 372.0     Low-Potential\n",
       "28           500245798                 385.0     Low-Potential\n",
       "33           500245831                 392.0     Low-Potential\n",
       "105          500247159                 396.5     Low-Potential\n",
       "140          500264229                 385.0     Low-Potential\n",
       "...                ...                   ...               ...\n",
       "30161        600685957                 380.0     Low-Potential\n",
       "30208        600686423                 375.5     Low-Potential\n",
       "30277        600974865                 350.5     Low-Potential\n",
       "30293        600975074                 374.5     Low-Potential\n",
       "30298        600975136                 378.5     Low-Potential\n",
       "\n",
       "[1118 rows x 3 columns]"
      ]
     },
     "metadata": {},
     "output_type": "display_data"
    },
    {
     "name": "stdout",
     "output_type": "stream",
     "text": [
      "Total Close-to-Threshold Customers: 1118\n"
     ]
    }
   ],
   "source": [
    "# Define a tighter range to find customers just under the threshold\n",
    "CLOSE_TO_THRESHOLD_LOWER = 350  \n",
    "CLOSE_TO_THRESHOLD_UPPER = 399  \n",
    "\n",
    "# Filter customers close to the threshold\n",
    "close_to_threshold_customers = customer_volume[\n",
    "    (customer_volume[\"TOTAL_ORDERED_VOLUME\"] >= CLOSE_TO_THRESHOLD_LOWER) & \n",
    "    (customer_volume[\"TOTAL_ORDERED_VOLUME\"] < CLOSE_TO_THRESHOLD_UPPER) & \n",
    "    (customer_volume[\"Customer_Category\"] == \"Low-Potential\")  # Fixed column name\n",
    "]\n",
    "\n",
    "# Count total number of customers close to the threshold (350-399 gallons)\n",
    "total_close_to_threshold = close_to_threshold_customers[\"CUSTOMER_NUMBER\"].nunique()\n",
    "\n",
    "# Display results\n",
    "display(close_to_threshold_customers)\n",
    "\n",
    "# Print count of such customers\n",
    "print(f\"Total Close-to-Threshold Customers: {total_close_to_threshold}\")\n"
   ]
  },
  {
   "cell_type": "markdown",
   "metadata": {},
   "source": [
    "## Customer Ordering Frequency"
   ]
  },
  {
   "cell_type": "code",
   "execution_count": null,
   "metadata": {},
   "outputs": [],
   "source": [
    "transaction_data['YearMonth'] = transaction_data['TRANSACTION_DATE'].dt.to_period('M')  # Monthly period\n",
    "transaction_data['YearWeek'] = transaction_data['TRANSACTION_DATE'].dt.to_period('W')  # Weekly period\n",
    "\n",
    "# Count number of unique order days per customer per month\n",
    "monthly_order_counts = transaction_data.groupby(['CUSTOMER_NUMBER', 'YearMonth'])['TRANSACTION_DATE'].nunique().reset_index()\n",
    "monthly_order_counts.rename(columns={'TRANSACTION_DATE': 'Orders_Per_Month'}, inplace=True)\n",
    "\n",
    "# Count number of unique order days per customer per week\n",
    "weekly_order_counts = transaction_data.groupby(['CUSTOMER_NUMBER', 'YearWeek'])['TRANSACTION_DATE'].nunique().reset_index()\n",
    "weekly_order_counts.rename(columns={'TRANSACTION_DATE': 'Orders_Per_Week'}, inplace=True)\n",
    "\n",
    "# Categorize ordering frequency per week\n",
    "def categorize_weekly_orders(count):\n",
    "    if count >= 5:\n",
    "        return \"5+ times a week\"\n",
    "    elif count >= 3:\n",
    "        return \"3-4 times a week\"\n",
    "    elif count >= 1:\n",
    "        return \"1-2 times a week\"\n",
    "    else:\n",
    "        return \"Rarely\"\n",
    "\n",
    "weekly_order_counts['Weekly_Frequency_Category'] = weekly_order_counts['Orders_Per_Week'].apply(categorize_weekly_orders)\n",
    "\n",
    "# Categorize ordering frequency per month\n",
    "def categorize_monthly_orders(count):\n",
    "    if count >= 12:\n",
    "        return \"12+ times a month\"\n",
    "    elif count >= 8:\n",
    "        return \"8-11 times a month\"\n",
    "    elif count >= 4:\n",
    "        return \"4-7 times a month\"\n",
    "    elif count >= 1:\n",
    "        return \"1-3 times a month\"\n",
    "    else:\n",
    "        return \"Rarely\"\n",
    "\n",
    "monthly_order_counts['Monthly_Frequency_Category'] = monthly_order_counts['Orders_Per_Month'].apply(categorize_monthly_orders)\n",
    "\n",
    "# # Merge results for customer ordering frequency analysis\n",
    "# customer_ordering_frequency = monthly_order_counts.merge(\n",
    "#     weekly_order_counts, on='CUSTOMER_NUMBER', how='left'\n",
    "# )\n",
    "\n",
    "# Display results\n",
    "display(\"Weekly_Frequency_Category\", weekly_order_counts)\n",
    "display(\"Monthly_Frequency_Category\", monthly_order_counts)"
   ]
  },
  {
   "cell_type": "code",
   "execution_count": null,
   "metadata": {},
   "outputs": [],
   "source": [
    "# Identify top customers with the highest order frequency per week\n",
    "top_weekly_customers = weekly_order_counts.groupby('CUSTOMER_NUMBER')['Orders_Per_Week'].sum().reset_index()\n",
    "top_weekly_customers = top_weekly_customers.sort_values(by='Orders_Per_Week', ascending=False).head(10)  # Top 10\n",
    "\n",
    "# Identify top customers with the highest order frequency per month\n",
    "top_monthly_customers = monthly_order_counts.groupby('CUSTOMER_NUMBER')['Orders_Per_Month'].sum().reset_index()\n",
    "top_monthly_customers = top_monthly_customers.sort_values(by='Orders_Per_Month', ascending=False).head(10)  # Top 10\n",
    "\n",
    "# Display top weekly and monthly ordering customers\n",
    "display(\"Top Weekly Ordering Customers\", top_weekly_customers)\n",
    "display(\"Top Monthly Ordering Customers\", top_monthly_customers)"
   ]
  },
  {
   "cell_type": "code",
   "execution_count": null,
   "metadata": {},
   "outputs": [],
   "source": [
    "# Calculate total number of unique customers\n",
    "total_customers = customer_ordering_frequency['CUSTOMER_NUMBER'].nunique()\n",
    "\n",
    "# Count customers who order frequently (3+ times a week)\n",
    "frequent_weekly_customers = customer_ordering_frequency[\n",
    "    customer_ordering_frequency['Weekly_Frequency_Category'].isin([\"3-4 times a week\", \"5+ times a week\"])\n",
    "]['CUSTOMER_NUMBER'].nunique()\n",
    "\n",
    "# Count customers who order frequently (3+ times a month)\n",
    "frequent_monthly_customers = customer_ordering_frequency[\n",
    "    customer_ordering_frequency['Monthly_Frequency_Category'].isin([\"4-7 times a month\", \"8-11 times a month\", \"12+ times a month\"])\n",
    "]['CUSTOMER_NUMBER'].nunique()\n",
    "\n",
    "# Calculate percentages\n",
    "weekly_percentage = (frequent_weekly_customers / total_customers) * 100\n",
    "monthly_percentage = (frequent_monthly_customers / total_customers) * 100\n",
    "\n",
    "# Count customers who order rarely (1-2 times a week or month)\n",
    "rare_weekly_customers = customer_ordering_frequency[\n",
    "    customer_ordering_frequency['Weekly_Frequency_Category'].isin([\"1-2 times a week\", \"Rarely\"])\n",
    "]['CUSTOMER_NUMBER'].nunique()\n",
    "\n",
    "rare_monthly_customers = customer_ordering_frequency[\n",
    "    customer_ordering_frequency['Monthly_Frequency_Category'].isin([\"1-3 times a month\", \"Rarely\"])\n",
    "]['CUSTOMER_NUMBER'].nunique()\n",
    "\n",
    "# Calculate percentages\n",
    "rare_weekly_percentage = (rare_weekly_customers / total_customers) * 100\n",
    "rare_monthly_percentage = (rare_monthly_customers / total_customers) * 100\n",
    "\n",
    "# Create summary results\n",
    "frequency_summary = pd.DataFrame({\n",
    "    \"Category\": [\"Frequent (3+ times/week)\", \"Rare (1-2 times/week)\", \"Frequent (3+ times/month)\", \"Rare (1-2 times/month)\"],\n",
    "    \"Customer Count\": [frequent_weekly_customers, rare_weekly_customers, frequent_monthly_customers, rare_monthly_customers],\n",
    "    \"Percentage (%)\": [weekly_percentage, rare_weekly_percentage, monthly_percentage, rare_monthly_percentage]\n",
    "})\n",
    "\n",
    "# Display results\n",
    "display(\"Customer Ordering Frequency Summary\", frequency_summary)\n"
   ]
  },
  {
   "cell_type": "markdown",
   "metadata": {},
   "source": [
    "> Frequent Weekly Orders (3+ times/week):\n",
    "Only 4.81% of customers order frequently every week (1,457 customers).\n",
    "The vast majority (99.85%) order 1-2 times a week or rarely.\n",
    "Frequent Monthly Orders (3+ times/month):\n",
    "38.9% of customers order frequently in a month (11,794 customers).\n",
    "98.33% of customers order 1-2 times a month or rarely."
   ]
  },
  {
   "cell_type": "markdown",
   "metadata": {},
   "source": [
    "## Identify Customers for ARTM"
   ]
  },
  {
   "cell_type": "code",
   "execution_count": null,
   "metadata": {},
   "outputs": [],
   "source": [
    "volume_threshold = 400  # Example: 400 gallons per year\n",
    "\n",
    "# Extract the year for annual aggregation\n",
    "transaction_data['Year'] = transaction_data['TRANSACTION_DATE'].dt.year\n",
    "\n",
    "# Calculate total annual volume per customer (cases + gallons, since cases are in gallon equivalent)\n",
    "customer_annual_volume = transaction_data.groupby(['CUSTOMER_NUMBER', 'Year'])[\n",
    "    ['ORDERED_GALLONS', 'ORDERED_CASES']\n",
    "].sum().reset_index()\n",
    "\n",
    "# Compute total ordered volume\n",
    "customer_annual_volume['TOTAL_ORDERED_VOLUME'] = (\n",
    "    customer_annual_volume['ORDERED_GALLONS'] + customer_annual_volume['ORDERED_CASES']\n",
    ")\n",
    "\n",
    "# Classify customers based on threshold\n",
    "customer_annual_volume['Delivery_Type_Recommendation'] = customer_annual_volume[\n",
    "    'TOTAL_ORDERED_VOLUME'\n",
    "].apply(lambda x: 'Red-Truck (High-Volume)' if x >= volume_threshold else 'White-Truck (ARTM)')\n",
    "\n",
    "# Display results\n",
    "display(\"Customer Delivery Type Recommendation\",customer_annual_volume)\n"
   ]
  },
  {
   "cell_type": "code",
   "execution_count": null,
   "metadata": {},
   "outputs": [],
   "source": []
  },
  {
   "cell_type": "code",
   "execution_count": null,
   "metadata": {},
   "outputs": [],
   "source": []
  },
  {
   "cell_type": "code",
   "execution_count": null,
   "metadata": {},
   "outputs": [],
   "source": []
  },
  {
   "cell_type": "code",
   "execution_count": null,
   "metadata": {},
   "outputs": [],
   "source": [
    "trade_channel_distribution = close_to_threshold_customers[\"TRADE_CHANNEL\"].value_counts().reset_index()\n",
    "trade_channel_distribution.columns = [\"TRADE_CHANNEL\", \"CUSTOMER_COUNT\"]\n",
    "\n",
    "# Step 3: Display the Trade Channel Distribution\n",
    "print(trade_channel_distribution)"
   ]
  },
  {
   "cell_type": "markdown",
   "metadata": {},
   "source": [
    ">  Opportunity: If many close-to-threshold customers are from the food & beverage sector, discounts, promotions, or optimized delivery routes might push them into high-potential."
   ]
  },
  {
   "cell_type": "markdown",
   "metadata": {},
   "source": [
    "## Delivery Analysis for Close-to-Threshold Customers\n",
    "> The goal of delivery analysis is to identify whether high delivery costs or inefficiencies are preventing low-potential customers near the threshold from increasing their orders."
   ]
  },
  {
   "cell_type": "code",
   "execution_count": null,
   "metadata": {},
   "outputs": [],
   "source": [
    "# Standardize column names: Rename 'COLD DRINK CHANNEL' to 'COLD_DRINK_CHANNEL'\n",
    "cost_data.rename(columns={'Cold Drink Channel': 'COLD_DRINK_CHANNEL'}, inplace=True)\n"
   ]
  },
  {
   "cell_type": "code",
   "execution_count": null,
   "metadata": {},
   "outputs": [],
   "source": [
    "#Merge close-to-threshold customers with their cold drink channel\n",
    "close_to_threshold_customers = close_to_threshold_customers.merge(\n",
    "    customer_data[['CUSTOMER_NUMBER', 'COLD_DRINK_CHANNEL']],\n",
    "    on='CUSTOMER_NUMBER',\n",
    "    how='left'\n",
    ")\n",
    "\n",
    "# Merge with delivery cost data based on the cold drink channel\n",
    "close_to_threshold_customers = close_to_threshold_customers.merge(\n",
    "    cost_data[['COLD_DRINK_CHANNEL', 'Vol Range', 'Median Delivery Cost']],\n",
    "    on='COLD_DRINK_CHANNEL',\n",
    "    how='left'\n",
    ")\n",
    "\n",
    "display(\"close_to_threshold_customers\", close_to_threshold_customers)\n"
   ]
  },
  {
   "cell_type": "code",
   "execution_count": null,
   "metadata": {},
   "outputs": [],
   "source": [
    "# Step 1: Calculate Total Ordered Volume Per Customer (Gallons)\n",
    "customer_total_gallons = transaction_data.groupby(\"CUSTOMER_NUMBER\")[\"ORDERED_GALLONS\"].sum().reset_index()\n",
    "\n",
    "# Step 2: Filter Customers Who Ordered More Than 400 Gallons\n",
    "high_gallon_customers = customer_total_gallons[customer_total_gallons[\"ORDERED_GALLONS\"] > 400]\n",
    "\n",
    "# Step 3: Count the Total Number of Customers Meeting the Criteria\n",
    "total_high_gallon_customers = high_gallon_customers[\"CUSTOMER_NUMBER\"].nunique()\n",
    "display(\"high_gallon_customers\", high_gallon_customers)\n",
    "display(\"total_high_gallon_customers\", total_high_gallon_customers)"
   ]
  },
  {
   "cell_type": "markdown",
   "metadata": {},
   "source": [
    "## Identify Customers Paying High Delivery Costs\n",
    "> We need to check if close-to-threshold customers are paying higher delivery costs compared to high-potential customers."
   ]
  },
  {
   "cell_type": "code",
   "execution_count": null,
   "metadata": {},
   "outputs": [],
   "source": [
    "# Drop unnecessary duplicate columns\n",
    "customer_segmentation = customer_segmentation.drop(columns=[\n",
    "    'COLD_DRINK_CHANNEL_x', 'COLD_DRINK_CHANNEL_y',  # Remove extra versions\n",
    "    'LAST_ORDER_DATE_x', 'LAST_ORDER_DATE_y'  # Remove duplicate dates\n",
    "], errors='ignore')  # Prevent errors if columns are missing\n",
    "\n",
    "# Rename the correct column if needed\n",
    "customer_segmentation.rename(columns={\"COLD_DRINK_CHANNEL\": \"COLD_DRINK_CHANNEL\"}, inplace=True)\n",
    "\n",
    "print(customer_segmentation.columns)  # Check if COLD_DRINK_CHANNEL is now clean\n"
   ]
  },
  {
   "cell_type": "code",
   "execution_count": null,
   "metadata": {},
   "outputs": [],
   "source": [
    "# Remove dollar signs or any non-numeric characters and convert to float\n",
    "cost_data['Median Delivery Cost'] = cost_data['Median Delivery Cost'].replace('[\\$,]', '', regex=True).astype(float)"
   ]
  },
  {
   "cell_type": "code",
   "execution_count": null,
   "metadata": {},
   "outputs": [],
   "source": [
    "# Merge delivery cost data with customer segmentation\n",
    "customer_delivery_cost = customer_segmentation.merge(\n",
    "    cost_data[['COLD_DRINK_CHANNEL', 'Vol Range', 'Median Delivery Cost']],\n",
    "    on='COLD_DRINK_CHANNEL',\n",
    "    how='left'\n",
    ")\n"
   ]
  },
  {
   "cell_type": "markdown",
   "metadata": {},
   "source": [
    "## Compare Delivery Costs for High vs. Low Potential Customers"
   ]
  },
  {
   "cell_type": "code",
   "execution_count": null,
   "metadata": {},
   "outputs": [],
   "source": [
    "# Compute the average delivery cost for each customer group\n",
    "avg_delivery_cost = customer_delivery_cost.groupby('CUSTOMER_TYPE')['Median Delivery Cost'].mean().reset_index()\n",
    "\n",
    "display(\"avg_delivery_cost\", avg_delivery_cost)\n"
   ]
  },
  {
   "cell_type": "code",
   "execution_count": null,
   "metadata": {},
   "outputs": [],
   "source": [
    "# Step 1: Identify Customers Using MyCoke 360 vs. Other Order Types\n",
    "customer_data[\"IS_MY_COKE_360\"] = customer_data[\"FREQUENT_ORDER_TYPE\"].apply(lambda x: 1 if \"MYCOKE\" in str(x).upper() else 0)\n",
    "\n",
    "# Step 2: Merge with Transaction Data\n",
    "customer_orders = transaction_data.groupby(\"CUSTOMER_NUMBER\")[[\"ORDERED_CASES\", \"DELIVERED_CASES\", \"ORDERED_GALLONS\", \"DELIVERED_GALLONS\"]].sum().reset_index()\n",
    "customer_orders = customer_orders.merge(customer_data[[\"CUSTOMER_NUMBER\", \"IS_MY_COKE_360\", \"FIRST_DELIVERY_DATE\", \"ON_BOARDING_DATE\", \"TRADE_CHANNEL\"]], on=\"CUSTOMER_NUMBER\", how=\"left\")\n",
    "\n",
    "# Step 3: Calculate Fulfillment Rate\n",
    "customer_orders[\"FULFILLMENT_RATE\"] = customer_orders[\"DELIVERED_CASES\"] / customer_orders[\"ORDERED_CASES\"]\n",
    "customer_orders.loc[customer_orders[\"ORDERED_CASES\"] == 0, \"FULFILLMENT_RATE\"] = None  # Avoid division by zero\n",
    "\n",
    "# Step 4: Compare Order Volume and Fulfillment Rate\n",
    "mycoke_vs_salesrep = customer_orders.groupby(\"IS_MY_COKE_360\").agg({\n",
    "    \"CUSTOMER_NUMBER\": \"count\",\n",
    "    \"ORDERED_CASES\": \"mean\",\n",
    "    \"ORDERED_GALLONS\": \"mean\",\n",
    "    \"FULFILLMENT_RATE\": \"mean\"\n",
    "}).rename(columns={\"CUSTOMER_NUMBER\": \"TOTAL_CUSTOMERS\"}).reset_index()\n",
    "\n",
    "# Step 5: Trade Channel Analysis\n",
    "trade_channel_comparison = customer_orders.groupby([\"TRADE_CHANNEL\", \"IS_MY_COKE_360\"]).size().unstack(fill_value=0)\n",
    "\n"
   ]
  },
  {
   "cell_type": "code",
   "execution_count": null,
   "metadata": {},
   "outputs": [],
   "source": [
    "display(\"mycoke_vs_salesrep\", mycoke_vs_salesrep)\n",
    "display(\"trade_channel_comparison\", trade_channel_comparison)\n"
   ]
  },
  {
   "cell_type": "markdown",
   "metadata": {},
   "source": [
    "## Analyze Delivery Cost by Cold Drink Channel"
   ]
  },
  {
   "cell_type": "code",
   "execution_count": null,
   "metadata": {},
   "outputs": [],
   "source": [
    "# Compare delivery costs across different channels\n",
    "delivery_cost_by_channel = customer_delivery_cost.groupby(['COLD_DRINK_CHANNEL', 'CUSTOMER_TYPE'])['Median Delivery Cost'].mean().unstack()\n",
    "\n",
    "print(delivery_cost_by_channel)\n"
   ]
  },
  {
   "cell_type": "markdown",
   "metadata": {},
   "source": [
    "> The difference in delivery cost between high- and low-potential customers is minimal.\n",
    "🔹 This means delivery costs do not significantly impact whether a customer is high- or low-potential.\n",
    "Insight: Certain channels like Dining and Wellness have higher delivery costs, likely due to smaller, frequent deliveries or inefficiencies.\n",
    "🔹 Opportunity: If SCCU can optimize delivery schedules for Dining & Wellness customers, costs might be reduced."
   ]
  },
  {
   "cell_type": "code",
   "execution_count": null,
   "metadata": {},
   "outputs": [],
   "source": [
    "# Calculate cost per unit (gallon/case)\n",
    "customer_delivery_cost[\"COST_PER_UNIT\"] = customer_delivery_cost[\"Median Delivery Cost\"] / customer_delivery_cost[\"TOTAL_ORDERED_VOLUME\"]\n",
    "\n",
    "# Group by customer type\n",
    "cost_per_unit_by_customer_type = customer_delivery_cost.groupby(\"CUSTOMER_TYPE\")[\"COST_PER_UNIT\"].mean().reset_index()\n",
    "\n",
    "print(cost_per_unit_by_customer_type)\n"
   ]
  },
  {
   "cell_type": "code",
   "execution_count": null,
   "metadata": {},
   "outputs": [],
   "source": [
    "# Find customers with zero ordered volume but non-zero delivery cost\n",
    "zero_order_customers = customer_delivery_cost[(customer_delivery_cost[\"TOTAL_ORDERED_VOLUME\"] == 0) & \n",
    "                                              (customer_delivery_cost[\"Median Delivery Cost\"] > 0)]\n",
    "\n",
    "print(zero_order_customers)\n"
   ]
  },
  {
   "cell_type": "code",
   "execution_count": null,
   "metadata": {},
   "outputs": [],
   "source": [
    "# Find cases where ordered volume is zero but delivery cost is nonzero\n",
    "zero_order_cost = customer_delivery_cost[\n",
    "    (customer_delivery_cost[\"TOTAL_ORDERED_VOLUME\"] == 0) & \n",
    "    (customer_delivery_cost[\"Median Delivery Cost\"] > 0)\n",
    "]\n",
    "\n",
    "print(zero_order_cost)\n"
   ]
  },
  {
   "cell_type": "code",
   "execution_count": null,
   "metadata": {},
   "outputs": [],
   "source": [
    "# Replace infinite values with NaN\n",
    "customer_delivery_cost[\"COST_PER_UNIT\"].replace([np.inf, -np.inf], np.nan, inplace=True)\n",
    "\n",
    "print(customer_delivery_cost)\n"
   ]
  },
  {
   "cell_type": "markdown",
   "metadata": {},
   "source": [
    "##  Investigate ZIP Codes with the Highest Delivery Costs"
   ]
  },
  {
   "cell_type": "code",
   "execution_count": null,
   "metadata": {},
   "outputs": [],
   "source": [
    "# Find top 10 ZIP codes with highest median delivery cost\n",
    "top_cost_zip_codes = customer_delivery_cost.groupby(\"ZIP_CODE\")[\"Median Delivery Cost\"].mean().nlargest(10)\n",
    "\n",
    "# Plot ZIP codes with highest delivery costs\n",
    "plt.figure(figsize=(10, 5))\n",
    "top_cost_zip_codes.plot(kind=\"bar\", color=\"purple\", alpha=0.7)\n",
    "plt.title(\"Top 10 ZIP Codes with Highest Delivery Cost\")\n",
    "plt.xlabel(\"ZIP Code\")\n",
    "plt.ylabel(\"Average Median Delivery Cost\")\n",
    "plt.xticks(rotation=45)\n",
    "plt.grid(axis=\"y\")\n",
    "plt.show()\n"
   ]
  },
  {
   "cell_type": "markdown",
   "metadata": {},
   "source": [
    "## Test Alternative Thresholds for High-Potential Customers"
   ]
  },
  {
   "cell_type": "code",
   "execution_count": null,
   "metadata": {},
   "outputs": [],
   "source": [
    "# Ensure transaction_data is processed\n",
    "transaction_data[\"MONTH\"] = pd.to_datetime(transaction_data[\"TRANSACTION_DATE\"]).dt.to_period(\"M\")\n",
    "\n",
    "# Aggregate monthly purchase volumes per customer\n",
    "monthly_avg_orders = transaction_data.groupby([\"CUSTOMER_NUMBER\", \"MONTH\"])[\n",
    "    [\"ORDERED_CASES\", \"ORDERED_GALLONS\"]\n",
    "].sum().groupby(\"CUSTOMER_NUMBER\").mean().reset_index()\n",
    "\n",
    "print(monthly_avg_orders[\"ORDERED_GALLONS\"].quantile([0.25, 0.50, 0.75, 0.90, 0.95]))\n"
   ]
  },
  {
   "cell_type": "markdown",
   "metadata": {},
   "source": [
    "> Your quantile results show that most customers order very low volumes, with a median (50th percentile) of only 3.33 gallons per month, and only the top 25% of customers exceed 21.69 gallons per month.\n",
    "The current 400-gallon threshold\n",
    "(33.3 gallons/month) is above the 90th percentile (~44.6 gallons/month).\n",
    "This means SCCU is classifying only a very small percentage of customers as high potential.\n",
    "If SCCU wants more customers to qualify as high-potential, the threshold could be lowered (e.g., 450-500 gallons annually)."
   ]
  },
  {
   "cell_type": "markdown",
   "metadata": {},
   "source": [
    "## Count Customers Above Different Thresholds"
   ]
  },
  {
   "cell_type": "markdown",
   "metadata": {},
   "source": [
    "> This will show how many customers remain in direct delivery vs. ARTM at different thresholds."
   ]
  },
  {
   "cell_type": "code",
   "execution_count": null,
   "metadata": {},
   "outputs": [],
   "source": [
    "# Define annual threshold levels\n",
    "thresholds = [400, 500, 600, 700, 800]\n",
    "\n",
    "# Convert monthly gallons to annual gallons\n",
    "monthly_avg_orders[\"ANNUAL_GALLONS\"] = monthly_avg_orders[\"ORDERED_GALLONS\"] * 12\n",
    "\n",
    "# Count customers above each threshold\n",
    "customer_counts = {thresh: (monthly_avg_orders[\"ANNUAL_GALLONS\"] >= thresh).sum() for thresh in thresholds}\n",
    "\n",
    "# Convert to DataFrame for plotting\n",
    "threshold_df = pd.DataFrame(list(customer_counts.items()), columns=[\"Threshold\", \"Customer Count\"])\n",
    "\n",
    "# Plot the customer count drop as threshold increases\n",
    "plt.figure(figsize=(8, 5))\n",
    "plt.plot(threshold_df[\"Threshold\"], threshold_df[\"Customer Count\"], marker='o', linestyle='dashed', color='b')\n",
    "plt.xlabel(\"Threshold (Annual Gallons)\")\n",
    "plt.ylabel(\"Number of Customers in Direct Delivery\")\n",
    "plt.title(\"Customer Count vs. Increasing Threshold\")\n",
    "plt.grid()\n",
    "plt.show()\n"
   ]
  },
  {
   "cell_type": "markdown",
   "metadata": {},
   "source": [
    "> SCCU raises the threshold, fewer customers remain in direct delivery.\n",
    "This confirms that raising the threshold will push more customers to ARTM"
   ]
  },
  {
   "cell_type": "markdown",
   "metadata": {},
   "source": [
    "## Identify Customers Moving to ARTM\n",
    ">This confirms how many customers will transition to ARTM."
   ]
  },
  {
   "cell_type": "code",
   "execution_count": null,
   "metadata": {},
   "outputs": [],
   "source": [
    "# Assign customers to Direct Delivery or ARTM at different thresholds\n",
    "monthly_avg_orders[\"DELIVERY_TYPE\"] = np.where(monthly_avg_orders[\"ANNUAL_GALLONS\"] >= 400, \"Direct Delivery\", \"ARTM\")\n",
    "\n",
    "# Count how many customers move to ARTM\n",
    "artm_counts = monthly_avg_orders.groupby(\"DELIVERY_TYPE\")[\"CUSTOMER_NUMBER\"].count()\n",
    "\n",
    "# Plot distribution of customers in Direct Delivery vs. ARTM\n",
    "plt.figure(figsize=(6, 4))\n",
    "artm_counts.plot(kind=\"bar\", color=[\"b\", \"r\"])\n",
    "plt.xlabel(\"Delivery Type\")\n",
    "plt.ylabel(\"Number of Customers\")\n",
    "plt.title(\"Customer Distribution: Direct Delivery vs. ARTM\")\n",
    "plt.xticks(rotation=0)\n",
    "plt.grid(axis=\"y\")\n",
    "plt.show()\n"
   ]
  },
  {
   "cell_type": "markdown",
   "metadata": {},
   "source": [
    "> the majority of customers (25,000) will be moved to ARTM, while only a small fraction (~3,000-4,000) will remain in Direct Delivery under the new threshold"
   ]
  },
  {
   "cell_type": "markdown",
   "metadata": {},
   "source": [
    "## Analyze Total Volume from Each Customer Group\n",
    "> should ensure high-volume customers contribute most of the total sales.\n",
    "We will calculate the % of total ordered gallons from customers above each threshold"
   ]
  },
  {
   "cell_type": "code",
   "execution_count": null,
   "metadata": {},
   "outputs": [],
   "source": [
    "# Calculate total volume from customers above each threshold\n",
    "total_volume = monthly_avg_orders[\"ANNUAL_GALLONS\"].sum()\n",
    "volume_by_threshold = {thresh: monthly_avg_orders[monthly_avg_orders[\"ANNUAL_GALLONS\"] >= thresh][\"ANNUAL_GALLONS\"].sum() / total_volume * 100 for thresh in thresholds}\n",
    "\n",
    "# Convert to DataFrame\n",
    "volume_df = pd.DataFrame(list(volume_by_threshold.items()), columns=[\"Threshold\", \"Volume Share (%)\"])\n",
    "\n",
    "# Plot volume contribution at each threshold\n",
    "plt.figure(figsize=(8, 5))\n",
    "plt.plot(volume_df[\"Threshold\"], volume_df[\"Volume Share (%)\"], marker='o', linestyle='dashed', color='g')\n",
    "plt.xlabel(\"Threshold (Annual Gallons)\")\n",
    "plt.ylabel(\"Percentage of Total Volume\")\n",
    "plt.title(\"Volume Contribution vs. Increasing Threshold\")\n",
    "plt.grid()\n",
    "plt.show()\n"
   ]
  },
  {
   "cell_type": "markdown",
   "metadata": {},
   "source": [
    ">  the percentage of total volume in direct delivery decreases as SCCU raises the threshold from 400 to 800 gallons annually."
   ]
  },
  {
   "cell_type": "code",
   "execution_count": null,
   "metadata": {},
   "outputs": [],
   "source": []
  },
  {
   "cell_type": "code",
   "execution_count": null,
   "metadata": {},
   "outputs": [],
   "source": []
  },
  {
   "cell_type": "code",
   "execution_count": null,
   "metadata": {},
   "outputs": [],
   "source": []
  },
  {
   "cell_type": "code",
   "execution_count": null,
   "metadata": {},
   "outputs": [],
   "source": [
    "# Fulfillment Rate Distribution\n",
    "\n",
    "plt.figure(figsize=(10, 5))\n",
    "sns.distplot(daily_fulfillment['FULFILLMENT_RATE'], bins=30, kde=True, hist=True)\n",
    "plt.xlabel('Fulfillment Rate')\n",
    "plt.ylabel('Frequency')\n",
    "plt.title('Distribution of Fulfillment Rate Over Time')\n",
    "plt.axvline(1, color='red', linestyle='dashed', label=\"Perfect Fulfillment (1.0)\")\n",
    "plt.legend()\n",
    "plt.grid()\n",
    "plt.show()"
   ]
  },
  {
   "cell_type": "markdown",
   "metadata": {},
   "source": [
    "> Most fulfillment rates are close to 1.0 – This indicates that on most days, the delivered cases closely match the ordered cases."
   ]
  },
  {
   "cell_type": "code",
   "execution_count": null,
   "metadata": {},
   "outputs": [],
   "source": [
    " # Identify High & Low Fulfillment Days;\n",
    "high_fulfillment_days = daily_fulfillment[daily_fulfillment['FULFILLMENT_RATE'] > 1.5].reset_index()\n",
    "low_fulfillment_days = daily_fulfillment[daily_fulfillment['FULFILLMENT_RATE'] < 0.8].reset_index()\n",
    "print(high_fulfillment_days)\n",
    "print(low_fulfillment_days)"
   ]
  },
  {
   "cell_type": "markdown",
   "metadata": {},
   "source": [
    "> There are days where fulfillment rates are far greater than 1.0 (e.g., values reaching 40+). This means that on those days, far more cases were delivered than ordered"
   ]
  },
  {
   "cell_type": "code",
   "execution_count": null,
   "metadata": {},
   "outputs": [],
   "source": [
    "#Plot fulfillment rate over time\n",
    "plt.figure(figsize=(12, 6))\n",
    "plt.plot(daily_fulfillment.index, daily_fulfillment['FULFILLMENT_RATE'], marker='o', linestyle='-', alpha=0.7)\n",
    "plt.xlabel('Transaction Date')\n",
    "plt.ylabel('Fulfillment Rate')\n",
    "plt.title('Daily Fulfillment Rate Over Time')\n",
    "plt.axhline(1.0, color='red', linestyle='dashed', label=\"Perfect Fulfillment (1.0)\")\n",
    "plt.legend()\n",
    "plt.grid()\n",
    "plt.show()\n"
   ]
  },
  {
   "cell_type": "markdown",
   "metadata": {},
   "source": [
    "> Some low fulfillment rates (< 1.0) – These points indicate days where deliveries were lower than the number of cases ordered, which may indicate supply chain inefficiencies or stock shortages."
   ]
  },
  {
   "cell_type": "code",
   "execution_count": null,
   "metadata": {},
   "outputs": [],
   "source": [
    "# Sort transactions by CUSTOMER_NUMBER and TRANSACTION_DATE (ensures correct order tracking)\n",
    "transaction_data = transaction_data.sort_values(by=[\"CUSTOMER_NUMBER\", \"TRANSACTION_DATE\"])\n",
    "\n",
    "# Compute cumulative ordered and delivered cases for each customer (track order fulfillment)\n",
    "transaction_data[\"CUM_ORDERED_CASES\"] = transaction_data.groupby(\"CUSTOMER_NUMBER\")[\"ORDERED_CASES\"].cumsum()\n",
    "transaction_data[\"CUM_DELIVERED_CASES\"] = transaction_data.groupby(\"CUSTOMER_NUMBER\")[\"DELIVERED_CASES\"].cumsum()\n",
    "\n",
    "# Calculate a running fulfillment rate\n",
    "transaction_data[\"CUMULATIVE_FULFILLMENT_RATE\"] = transaction_data[\"CUM_DELIVERED_CASES\"] / transaction_data[\"CUM_ORDERED_CASES\"]\n",
    "\n",
    "# Find next actual delivery date per customer\n",
    "delivery_data = transaction_data[transaction_data[\"DELIVERED_CASES\"] > 0][[\"CUSTOMER_NUMBER\", \"TRANSACTION_DATE\"]]\n",
    "\n",
    "# Merge transactions with next delivery date\n",
    "transaction_data = transaction_data.merge(\n",
    "    delivery_data, \n",
    "    on=\"CUSTOMER_NUMBER\", \n",
    "    suffixes=(\"_order\", \"_delivery\"), \n",
    "    how=\"left\"\n",
    ")\n",
    "\n",
    "# Keep only cases where delivery happened after the order\n",
    "transaction_data = transaction_data[\n",
    "    transaction_data[\"TRANSACTION_DATE_delivery\"] > transaction_data[\"TRANSACTION_DATE_order\"]\n",
    "]\n",
    "\n",
    "# Calculate delivery lag (difference between order date and first delivery date)\n",
    "transaction_data[\"DELIVERY_LAG_DAYS\"] = (transaction_data[\"TRANSACTION_DATE_delivery\"] - transaction_data[\"TRANSACTION_DATE_order\"]).dt.days\n",
    "print(transaction_data)"
   ]
  },
  {
   "cell_type": "code",
   "execution_count": null,
   "metadata": {},
   "outputs": [],
   "source": [
    "print(transaction_data.head(15))"
   ]
  },
  {
   "cell_type": "code",
   "execution_count": null,
   "metadata": {},
   "outputs": [],
   "source": [
    "#Check if any customers ordered gallons but not cases.\n",
    "# Compute total ordered and delivered cases per customer\n",
    "customer_order_summary = transaction_data.groupby(\"CUSTOMER_NUMBER\")[[\"ORDERED_CASES\", \"DELIVERED_CASES\"]].sum().reset_index()\n",
    "\n",
    "# Filter customers who never placed an order (ORDERED_CASES == 0)\n",
    "customers_with_no_orders = customer_order_summary[customer_order_summary[\"ORDERED_CASES\"] == 0]\n",
    "\n",
    "print(customers_with_no_orders)\n"
   ]
  },
  {
   "cell_type": "code",
   "execution_count": null,
   "metadata": {},
   "outputs": [],
   "source": [
    "#Instead of a single fulfillment metric, track both gallons and cases separately.\n",
    "transaction_data[\"FULFILLMENT_RATE_CASES\"] = transaction_data[\"DELIVERED_CASES\"] / transaction_data[\"ORDERED_CASES\"]\n",
    "transaction_data[\"FULFILLMENT_RATE_GALLONS\"] = transaction_data[\"DELIVERED_GALLONS\"] / transaction_data[\"ORDERED_GALLONS\"]\n"
   ]
  },
  {
   "cell_type": "code",
   "execution_count": null,
   "metadata": {},
   "outputs": [],
   "source": [
    "#Filter out truly inactive customers only if both ORDERED_CASES = 0 and ORDERED_GALLONS = 0\n",
    "active_customers = transaction_data[(transaction_data[\"ORDERED_CASES\"] > 0) | (transaction_data[\"ORDERED_GALLONS\"] > 0)]\n",
    "print(active_customers)\n"
   ]
  },
  {
   "cell_type": "code",
   "execution_count": null,
   "metadata": {},
   "outputs": [],
   "source": [
    "#Find Customers with No Orders (Cases & Gallons)\n",
    "# Filter transactions where both ORDERED_CASES and ORDERED_GALLONS are 0\n",
    "no_orders = transaction_data[(transaction_data[\"ORDERED_CASES\"] == 0) & (transaction_data[\"ORDERED_GALLONS\"] == 0)]\n",
    "\n",
    "print(no_orders)\n"
   ]
  },
  {
   "cell_type": "code",
   "execution_count": null,
   "metadata": {
    "scrolled": true
   },
   "outputs": [],
   "source": [
    "customers_with_no_cases = transaction_data[transaction_data[\"ORDERED_CASES\"] == 0]\n",
    "customers_with_gallons = customers_with_no_cases[transaction_data[\"ORDERED_GALLONS\"] > 0]\n",
    "print(customers_with_gallons)\n"
   ]
  },
  {
   "cell_type": "code",
   "execution_count": null,
   "metadata": {},
   "outputs": [],
   "source": [
    "# Calculate the number of customers who ordered neither cases nor gallons\n",
    "num_no_orders = transaction_data[\n",
    "    (transaction_data[\"ORDERED_CASES\"] == 0) & (transaction_data[\"ORDERED_GALLONS\"] == 0)\n",
    "][\"CUSTOMER_NUMBER\"].nunique()\n",
    "\n",
    "# Display the result\n",
    "num_no_orders\n"
   ]
  },
  {
   "cell_type": "code",
   "execution_count": null,
   "metadata": {},
   "outputs": [],
   "source": [
    "total_customers = transaction_data[\"CUSTOMER_NUMBER\"].nunique()\n",
    "print(\"Total unique customers:\", total_customers)\n"
   ]
  },
  {
   "cell_type": "code",
   "execution_count": null,
   "metadata": {},
   "outputs": [],
   "source": [
    "high_fulfillment_days = daily_fulfillment[daily_fulfillment['FULFILLMENT_RATE'] > 1.5].reset_index()\n",
    "low_fulfillment_days = daily_fulfillment[daily_fulfillment['FULFILLMENT_RATE'] < 0.8].reset_index()\n",
    "\n",
    "# Get Transactions on Those Days\n",
    "high_fulfillment_customers = transaction_data[transaction_data['TRANSACTION_DATE'].isin(high_fulfillment_days['TRANSACTION_DATE'])]\n",
    "low_fulfillment_customers = transaction_data[transaction_data['TRANSACTION_DATE'].isin(low_fulfillment_days['TRANSACTION_DATE'])]\n",
    "\n",
    "# Merge with Customer Data to Get Cold Drink Channel\n",
    "customer_data_filtered = customer_data[['CUSTOMER_NUMBER', 'COLD_DRINK_CHANNEL']]  # Keep relevant columns only\n",
    "high_fulfillment_customers = pd.merge(high_fulfillment_customers, customer_data_filtered, on='CUSTOMER_NUMBER', how='left')\n",
    "low_fulfillment_customers = pd.merge(low_fulfillment_customers, customer_data_filtered, on='CUSTOMER_NUMBER', how='left')\n",
    "\n",
    "# Analyze Fulfillment Trends Across Different Cold Drink Channels\n",
    "high_fulfillment_by_channel = high_fulfillment_customers.groupby('COLD_DRINK_CHANNEL')[['ORDERED_CASES', 'DELIVERED_CASES']].sum()\n",
    "low_fulfillment_by_channel = low_fulfillment_customers.groupby('COLD_DRINK_CHANNEL')[['ORDERED_CASES', 'DELIVERED_CASES']].sum()\n",
    "\n",
    "# Fix Missing Data in Grouping\n",
    "high_fulfillment_by_channel.fillna(0, inplace=True)\n",
    "low_fulfillment_by_channel.fillna(0, inplace=True)\n",
    "\n",
    "print(high_fulfillment_customers.head(10))\n",
    "print(low_fulfillment_customers.head(10))\n",
    "print(high_fulfillment_by_channel.head(10))\n",
    "print(low_fulfillment_by_channel.head(10))"
   ]
  },
  {
   "cell_type": "code",
   "execution_count": null,
   "metadata": {},
   "outputs": [],
   "source": [
    "# Calculate Fulfillment Rate before plotting\n",
    "high_fulfillment_by_channel['FULFILLMENT_RATE'] = high_fulfillment_by_channel['DELIVERED_CASES'] / high_fulfillment_by_channel['ORDERED_CASES']\n",
    "low_fulfillment_by_channel['FULFILLMENT_RATE'] = low_fulfillment_by_channel['DELIVERED_CASES'] / low_fulfillment_by_channel['ORDERED_CASES']\n",
    "\n",
    "# Handle division by zero cases\n",
    "high_fulfillment_by_channel.replace([float('inf'), -float('inf')], 0, inplace=True)\n",
    "low_fulfillment_by_channel.replace([float('inf'), -float('inf')], 0, inplace=True)\n",
    "\n",
    "# Plot Fulfillment Rate Distribution by Cold Drink Channel\n",
    "plt.figure(figsize=(10, 5))\n",
    "high_fulfillment_by_channel['FULFILLMENT_RATE'].plot(kind='bar', color='green', alpha=0.7, label='High Fulfillment Rate')\n",
    "low_fulfillment_by_channel['FULFILLMENT_RATE'].plot(kind='bar', color='red', alpha=0.7, label='Low Fulfillment Rate')\n",
    "plt.xlabel(\"Cold Drink Channel\")\n",
    "plt.ylabel(\"Fulfillment Rate\")\n",
    "plt.title(\"Comparison of High vs Low Fulfillment Rates by Cold Drink Channel\")\n",
    "plt.legend()\n",
    "plt.xticks(rotation=45)\n",
    "plt.grid(axis='y')\n",
    "plt.show()"
   ]
  },
  {
   "cell_type": "markdown",
   "metadata": {},
   "source": [
    "> Wellness & Workplace Have the Lowest Fulfillment Rates, it means they are not getting their full orders delivered.\n",
    "> Accommodation & Bulk Trade Have High Fulfillment Rates, Bulk Trade has the highest fulfillment rate (all green).\n",
    "> Dining & Public Sector Face Issues"
   ]
  },
  {
   "cell_type": "code",
   "execution_count": null,
   "metadata": {},
   "outputs": [],
   "source": [
    "print(high_fulfillment_by_channel[['ORDERED_CASES', 'DELIVERED_CASES', 'FULFILLMENT_RATE']])\n",
    "print(low_fulfillment_by_channel[['ORDERED_CASES', 'DELIVERED_CASES', 'FULFILLMENT_RATE']])\n"
   ]
  },
  {
   "cell_type": "markdown",
   "metadata": {},
   "source": [
    "### Customer Segmentation"
   ]
  },
  {
   "cell_type": "code",
   "execution_count": null,
   "metadata": {},
   "outputs": [],
   "source": [
    "# Ensure missing values in ordered volume columns are handled\n",
    "transaction_data['ORDERED_CASES'] = transaction_data['ORDERED_CASES'].fillna(0)\n",
    "transaction_data['ORDERED_GALLONS'] = transaction_data['ORDERED_GALLONS'].fillna(0)\n",
    "\n",
    "# Step 1: Aggregate Total Ordered Volume per Customer\n",
    "transaction_data['TOTAL_ORDERED_VOLUME'] = transaction_data['ORDERED_GALLONS'] + transaction_data['ORDERED_CASES']\n",
    "\n",
    "# Summarize total ordered volume per customer\n",
    "customer_volume = transaction_data.groupby('CUSTOMER_NUMBER')['TOTAL_ORDERED_VOLUME'].sum().reset_index()\n",
    "\n",
    "# Step 2: Classify Customers as High or Low Potential\n",
    "THRESHOLD = 400  # Business assumption: 400 gallons annually\n",
    "customer_volume['CUSTOMER_TYPE'] = customer_volume['TOTAL_ORDERED_VOLUME'].apply(\n",
    "    lambda x: 'High-Potential' if x >= THRESHOLD else 'Low-Potential'\n",
    ")\n",
    "\n",
    "# Step 3: Merge with Customer Profile Data\n",
    "customer_segmentation = pd.merge(customer_volume, customer_data, on='CUSTOMER_NUMBER', how='left')\n",
    "\n",
    "# Step 4: Analyze High vs. Low-Potential Customers\n",
    "customer_summary = customer_segmentation.groupby('CUSTOMER_TYPE').agg({\n",
    "    'CUSTOMER_NUMBER': 'count',  # Total customers in each category\n",
    "    'TOTAL_ORDERED_VOLUME': ['mean', 'median', 'min', 'max']\n",
    "}).reset_index()\n",
    "\n",
    "print(customer_summary)\n",
    "\n",
    "# Step 5: Check Distribution by Cold Drink Channel\n",
    "channel_distribution = customer_segmentation.groupby(['CUSTOMER_TYPE', 'COLD_DRINK_CHANNEL']).size().unstack()\n",
    "\n",
    "# Display Cold Drink Channel Insights\n",
    "print(channel_distribution)\n"
   ]
  },
  {
   "cell_type": "markdown",
   "metadata": {},
   "source": [
    ">High-Potential Customers (≥ 400 gallons annually) → 12,802 customers.\n",
    "Largest Customer: 835,714 gallons ordered annually\n",
    "Low-Potential Customers (< 400 gallons annually) → 17,520 customers\n",
    ">>The 400-gallon threshold seems reasonable, but we may explore a better data-driven threshold.\n",
    ">Dining, Bulk Trade, and Event customers dominate the High-Potential segment."
   ]
  },
  {
   "cell_type": "code",
   "execution_count": null,
   "metadata": {},
   "outputs": [],
   "source": []
  }
 ],
 "metadata": {
  "kernelspec": {
   "display_name": "Python 3 (ipykernel)",
   "language": "python",
   "name": "python3"
  },
  "language_info": {
   "codemirror_mode": {
    "name": "ipython",
    "version": 3
   },
   "file_extension": ".py",
   "mimetype": "text/x-python",
   "name": "python",
   "nbconvert_exporter": "python",
   "pygments_lexer": "ipython3",
   "version": "3.9.12"
  }
 },
 "nbformat": 4,
 "nbformat_minor": 2
}
